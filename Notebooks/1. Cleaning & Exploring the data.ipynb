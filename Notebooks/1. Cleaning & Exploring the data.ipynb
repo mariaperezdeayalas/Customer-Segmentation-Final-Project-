{
 "cells": [
  {
   "cell_type": "markdown",
   "id": "e909cc8a",
   "metadata": {},
   "source": [
    "# 1. Cleaning & Exploring the data"
   ]
  },
  {
   "cell_type": "code",
   "execution_count": 1,
   "id": "9c46ddce",
   "metadata": {},
   "outputs": [],
   "source": [
    "import numpy as np\n",
    "import pandas as pd\n",
    "from scipy.stats import trim_mean"
   ]
  },
  {
   "cell_type": "code",
   "execution_count": 2,
   "id": "0c67178c",
   "metadata": {},
   "outputs": [],
   "source": [
    "# For visualizations\n",
    "from matplotlib import pyplot as plt\n",
    "%matplotlib inline\n",
    "%config Inlinebackend.figure_format = 'retina'\n",
    "\n",
    "import seaborn as sns\n",
    "sns.set_context('poster')\n",
    "sns.set(rc={'figure.figsize': (16., 9.)})\n",
    "sns.set_style('whitegrid')"
   ]
  },
  {
   "cell_type": "code",
   "execution_count": 3,
   "id": "92b032fd",
   "metadata": {},
   "outputs": [],
   "source": [
    "df = pd.read_csv(\"../Data/marketing_campaign.csv\", sep='\\t', encoding = \"ISO-8859-1\", keep_default_na=False)"
   ]
  },
  {
   "cell_type": "markdown",
   "id": "05dc8433",
   "metadata": {},
   "source": [
    "### I. First view of the dataset"
   ]
  },
  {
   "cell_type": "code",
   "execution_count": 4,
   "id": "1dfe09eb",
   "metadata": {},
   "outputs": [
    {
     "data": {
      "text/html": [
       "<div>\n",
       "<style scoped>\n",
       "    .dataframe tbody tr th:only-of-type {\n",
       "        vertical-align: middle;\n",
       "    }\n",
       "\n",
       "    .dataframe tbody tr th {\n",
       "        vertical-align: top;\n",
       "    }\n",
       "\n",
       "    .dataframe thead th {\n",
       "        text-align: right;\n",
       "    }\n",
       "</style>\n",
       "<table border=\"1\" class=\"dataframe\">\n",
       "  <thead>\n",
       "    <tr style=\"text-align: right;\">\n",
       "      <th></th>\n",
       "      <th>ID</th>\n",
       "      <th>Year_Birth</th>\n",
       "      <th>Education</th>\n",
       "      <th>Marital_Status</th>\n",
       "      <th>Income</th>\n",
       "      <th>Kidhome</th>\n",
       "      <th>Teenhome</th>\n",
       "      <th>Dt_Customer</th>\n",
       "      <th>Recency</th>\n",
       "      <th>MntWines</th>\n",
       "      <th>...</th>\n",
       "      <th>NumWebVisitsMonth</th>\n",
       "      <th>AcceptedCmp3</th>\n",
       "      <th>AcceptedCmp4</th>\n",
       "      <th>AcceptedCmp5</th>\n",
       "      <th>AcceptedCmp1</th>\n",
       "      <th>AcceptedCmp2</th>\n",
       "      <th>Complain</th>\n",
       "      <th>Z_CostContact</th>\n",
       "      <th>Z_Revenue</th>\n",
       "      <th>Response</th>\n",
       "    </tr>\n",
       "  </thead>\n",
       "  <tbody>\n",
       "    <tr>\n",
       "      <th>0</th>\n",
       "      <td>5524</td>\n",
       "      <td>1957</td>\n",
       "      <td>Graduation</td>\n",
       "      <td>Single</td>\n",
       "      <td>58138</td>\n",
       "      <td>0</td>\n",
       "      <td>0</td>\n",
       "      <td>04-09-2012</td>\n",
       "      <td>58</td>\n",
       "      <td>635</td>\n",
       "      <td>...</td>\n",
       "      <td>7</td>\n",
       "      <td>0</td>\n",
       "      <td>0</td>\n",
       "      <td>0</td>\n",
       "      <td>0</td>\n",
       "      <td>0</td>\n",
       "      <td>0</td>\n",
       "      <td>3</td>\n",
       "      <td>11</td>\n",
       "      <td>1</td>\n",
       "    </tr>\n",
       "    <tr>\n",
       "      <th>1</th>\n",
       "      <td>2174</td>\n",
       "      <td>1954</td>\n",
       "      <td>Graduation</td>\n",
       "      <td>Single</td>\n",
       "      <td>46344</td>\n",
       "      <td>1</td>\n",
       "      <td>1</td>\n",
       "      <td>08-03-2014</td>\n",
       "      <td>38</td>\n",
       "      <td>11</td>\n",
       "      <td>...</td>\n",
       "      <td>5</td>\n",
       "      <td>0</td>\n",
       "      <td>0</td>\n",
       "      <td>0</td>\n",
       "      <td>0</td>\n",
       "      <td>0</td>\n",
       "      <td>0</td>\n",
       "      <td>3</td>\n",
       "      <td>11</td>\n",
       "      <td>0</td>\n",
       "    </tr>\n",
       "    <tr>\n",
       "      <th>2</th>\n",
       "      <td>4141</td>\n",
       "      <td>1965</td>\n",
       "      <td>Graduation</td>\n",
       "      <td>Together</td>\n",
       "      <td>71613</td>\n",
       "      <td>0</td>\n",
       "      <td>0</td>\n",
       "      <td>21-08-2013</td>\n",
       "      <td>26</td>\n",
       "      <td>426</td>\n",
       "      <td>...</td>\n",
       "      <td>4</td>\n",
       "      <td>0</td>\n",
       "      <td>0</td>\n",
       "      <td>0</td>\n",
       "      <td>0</td>\n",
       "      <td>0</td>\n",
       "      <td>0</td>\n",
       "      <td>3</td>\n",
       "      <td>11</td>\n",
       "      <td>0</td>\n",
       "    </tr>\n",
       "    <tr>\n",
       "      <th>3</th>\n",
       "      <td>6182</td>\n",
       "      <td>1984</td>\n",
       "      <td>Graduation</td>\n",
       "      <td>Together</td>\n",
       "      <td>26646</td>\n",
       "      <td>1</td>\n",
       "      <td>0</td>\n",
       "      <td>10-02-2014</td>\n",
       "      <td>26</td>\n",
       "      <td>11</td>\n",
       "      <td>...</td>\n",
       "      <td>6</td>\n",
       "      <td>0</td>\n",
       "      <td>0</td>\n",
       "      <td>0</td>\n",
       "      <td>0</td>\n",
       "      <td>0</td>\n",
       "      <td>0</td>\n",
       "      <td>3</td>\n",
       "      <td>11</td>\n",
       "      <td>0</td>\n",
       "    </tr>\n",
       "    <tr>\n",
       "      <th>4</th>\n",
       "      <td>5324</td>\n",
       "      <td>1981</td>\n",
       "      <td>PhD</td>\n",
       "      <td>Married</td>\n",
       "      <td>58293</td>\n",
       "      <td>1</td>\n",
       "      <td>0</td>\n",
       "      <td>19-01-2014</td>\n",
       "      <td>94</td>\n",
       "      <td>173</td>\n",
       "      <td>...</td>\n",
       "      <td>5</td>\n",
       "      <td>0</td>\n",
       "      <td>0</td>\n",
       "      <td>0</td>\n",
       "      <td>0</td>\n",
       "      <td>0</td>\n",
       "      <td>0</td>\n",
       "      <td>3</td>\n",
       "      <td>11</td>\n",
       "      <td>0</td>\n",
       "    </tr>\n",
       "    <tr>\n",
       "      <th>5</th>\n",
       "      <td>7446</td>\n",
       "      <td>1967</td>\n",
       "      <td>Master</td>\n",
       "      <td>Together</td>\n",
       "      <td>62513</td>\n",
       "      <td>0</td>\n",
       "      <td>1</td>\n",
       "      <td>09-09-2013</td>\n",
       "      <td>16</td>\n",
       "      <td>520</td>\n",
       "      <td>...</td>\n",
       "      <td>6</td>\n",
       "      <td>0</td>\n",
       "      <td>0</td>\n",
       "      <td>0</td>\n",
       "      <td>0</td>\n",
       "      <td>0</td>\n",
       "      <td>0</td>\n",
       "      <td>3</td>\n",
       "      <td>11</td>\n",
       "      <td>0</td>\n",
       "    </tr>\n",
       "    <tr>\n",
       "      <th>6</th>\n",
       "      <td>965</td>\n",
       "      <td>1971</td>\n",
       "      <td>Graduation</td>\n",
       "      <td>Divorced</td>\n",
       "      <td>55635</td>\n",
       "      <td>0</td>\n",
       "      <td>1</td>\n",
       "      <td>13-11-2012</td>\n",
       "      <td>34</td>\n",
       "      <td>235</td>\n",
       "      <td>...</td>\n",
       "      <td>6</td>\n",
       "      <td>0</td>\n",
       "      <td>0</td>\n",
       "      <td>0</td>\n",
       "      <td>0</td>\n",
       "      <td>0</td>\n",
       "      <td>0</td>\n",
       "      <td>3</td>\n",
       "      <td>11</td>\n",
       "      <td>0</td>\n",
       "    </tr>\n",
       "    <tr>\n",
       "      <th>7</th>\n",
       "      <td>6177</td>\n",
       "      <td>1985</td>\n",
       "      <td>PhD</td>\n",
       "      <td>Married</td>\n",
       "      <td>33454</td>\n",
       "      <td>1</td>\n",
       "      <td>0</td>\n",
       "      <td>08-05-2013</td>\n",
       "      <td>32</td>\n",
       "      <td>76</td>\n",
       "      <td>...</td>\n",
       "      <td>8</td>\n",
       "      <td>0</td>\n",
       "      <td>0</td>\n",
       "      <td>0</td>\n",
       "      <td>0</td>\n",
       "      <td>0</td>\n",
       "      <td>0</td>\n",
       "      <td>3</td>\n",
       "      <td>11</td>\n",
       "      <td>0</td>\n",
       "    </tr>\n",
       "    <tr>\n",
       "      <th>8</th>\n",
       "      <td>4855</td>\n",
       "      <td>1974</td>\n",
       "      <td>PhD</td>\n",
       "      <td>Together</td>\n",
       "      <td>30351</td>\n",
       "      <td>1</td>\n",
       "      <td>0</td>\n",
       "      <td>06-06-2013</td>\n",
       "      <td>19</td>\n",
       "      <td>14</td>\n",
       "      <td>...</td>\n",
       "      <td>9</td>\n",
       "      <td>0</td>\n",
       "      <td>0</td>\n",
       "      <td>0</td>\n",
       "      <td>0</td>\n",
       "      <td>0</td>\n",
       "      <td>0</td>\n",
       "      <td>3</td>\n",
       "      <td>11</td>\n",
       "      <td>1</td>\n",
       "    </tr>\n",
       "    <tr>\n",
       "      <th>9</th>\n",
       "      <td>5899</td>\n",
       "      <td>1950</td>\n",
       "      <td>PhD</td>\n",
       "      <td>Together</td>\n",
       "      <td>5648</td>\n",
       "      <td>1</td>\n",
       "      <td>1</td>\n",
       "      <td>13-03-2014</td>\n",
       "      <td>68</td>\n",
       "      <td>28</td>\n",
       "      <td>...</td>\n",
       "      <td>20</td>\n",
       "      <td>1</td>\n",
       "      <td>0</td>\n",
       "      <td>0</td>\n",
       "      <td>0</td>\n",
       "      <td>0</td>\n",
       "      <td>0</td>\n",
       "      <td>3</td>\n",
       "      <td>11</td>\n",
       "      <td>0</td>\n",
       "    </tr>\n",
       "    <tr>\n",
       "      <th>10</th>\n",
       "      <td>1994</td>\n",
       "      <td>1983</td>\n",
       "      <td>Graduation</td>\n",
       "      <td>Married</td>\n",
       "      <td></td>\n",
       "      <td>1</td>\n",
       "      <td>0</td>\n",
       "      <td>15-11-2013</td>\n",
       "      <td>11</td>\n",
       "      <td>5</td>\n",
       "      <td>...</td>\n",
       "      <td>7</td>\n",
       "      <td>0</td>\n",
       "      <td>0</td>\n",
       "      <td>0</td>\n",
       "      <td>0</td>\n",
       "      <td>0</td>\n",
       "      <td>0</td>\n",
       "      <td>3</td>\n",
       "      <td>11</td>\n",
       "      <td>0</td>\n",
       "    </tr>\n",
       "  </tbody>\n",
       "</table>\n",
       "<p>11 rows × 29 columns</p>\n",
       "</div>"
      ],
      "text/plain": [
       "      ID  Year_Birth   Education Marital_Status Income  Kidhome  Teenhome  \\\n",
       "0   5524        1957  Graduation         Single  58138        0         0   \n",
       "1   2174        1954  Graduation         Single  46344        1         1   \n",
       "2   4141        1965  Graduation       Together  71613        0         0   \n",
       "3   6182        1984  Graduation       Together  26646        1         0   \n",
       "4   5324        1981         PhD        Married  58293        1         0   \n",
       "5   7446        1967      Master       Together  62513        0         1   \n",
       "6    965        1971  Graduation       Divorced  55635        0         1   \n",
       "7   6177        1985         PhD        Married  33454        1         0   \n",
       "8   4855        1974         PhD       Together  30351        1         0   \n",
       "9   5899        1950         PhD       Together   5648        1         1   \n",
       "10  1994        1983  Graduation        Married               1         0   \n",
       "\n",
       "   Dt_Customer  Recency  MntWines  ...  NumWebVisitsMonth  AcceptedCmp3  \\\n",
       "0   04-09-2012       58       635  ...                  7             0   \n",
       "1   08-03-2014       38        11  ...                  5             0   \n",
       "2   21-08-2013       26       426  ...                  4             0   \n",
       "3   10-02-2014       26        11  ...                  6             0   \n",
       "4   19-01-2014       94       173  ...                  5             0   \n",
       "5   09-09-2013       16       520  ...                  6             0   \n",
       "6   13-11-2012       34       235  ...                  6             0   \n",
       "7   08-05-2013       32        76  ...                  8             0   \n",
       "8   06-06-2013       19        14  ...                  9             0   \n",
       "9   13-03-2014       68        28  ...                 20             1   \n",
       "10  15-11-2013       11         5  ...                  7             0   \n",
       "\n",
       "    AcceptedCmp4  AcceptedCmp5  AcceptedCmp1  AcceptedCmp2  Complain  \\\n",
       "0              0             0             0             0         0   \n",
       "1              0             0             0             0         0   \n",
       "2              0             0             0             0         0   \n",
       "3              0             0             0             0         0   \n",
       "4              0             0             0             0         0   \n",
       "5              0             0             0             0         0   \n",
       "6              0             0             0             0         0   \n",
       "7              0             0             0             0         0   \n",
       "8              0             0             0             0         0   \n",
       "9              0             0             0             0         0   \n",
       "10             0             0             0             0         0   \n",
       "\n",
       "    Z_CostContact  Z_Revenue  Response  \n",
       "0               3         11         1  \n",
       "1               3         11         0  \n",
       "2               3         11         0  \n",
       "3               3         11         0  \n",
       "4               3         11         0  \n",
       "5               3         11         0  \n",
       "6               3         11         0  \n",
       "7               3         11         0  \n",
       "8               3         11         1  \n",
       "9               3         11         0  \n",
       "10              3         11         0  \n",
       "\n",
       "[11 rows x 29 columns]"
      ]
     },
     "execution_count": 4,
     "metadata": {},
     "output_type": "execute_result"
    }
   ],
   "source": [
    "df.head(11) # There are some empty cells in the Income column..."
   ]
  },
  {
   "cell_type": "code",
   "execution_count": 5,
   "id": "c483781e",
   "metadata": {},
   "outputs": [
    {
     "data": {
      "text/plain": [
       "(2240, 29)"
      ]
     },
     "execution_count": 5,
     "metadata": {},
     "output_type": "execute_result"
    }
   ],
   "source": [
    "df.shape"
   ]
  },
  {
   "cell_type": "code",
   "execution_count": 6,
   "id": "c0d9ac8e",
   "metadata": {
    "scrolled": true
   },
   "outputs": [
    {
     "data": {
      "text/plain": [
       "ID                      int64\n",
       "Year_Birth              int64\n",
       "Education              object\n",
       "Marital_Status         object\n",
       "Income                 object\n",
       "Kidhome                 int64\n",
       "Teenhome                int64\n",
       "Dt_Customer            object\n",
       "Recency                 int64\n",
       "MntWines                int64\n",
       "MntFruits               int64\n",
       "MntMeatProducts         int64\n",
       "MntFishProducts         int64\n",
       "MntSweetProducts        int64\n",
       "MntGoldProds            int64\n",
       "NumDealsPurchases       int64\n",
       "NumWebPurchases         int64\n",
       "NumCatalogPurchases     int64\n",
       "NumStorePurchases       int64\n",
       "NumWebVisitsMonth       int64\n",
       "AcceptedCmp3            int64\n",
       "AcceptedCmp4            int64\n",
       "AcceptedCmp5            int64\n",
       "AcceptedCmp1            int64\n",
       "AcceptedCmp2            int64\n",
       "Complain                int64\n",
       "Z_CostContact           int64\n",
       "Z_Revenue               int64\n",
       "Response                int64\n",
       "dtype: object"
      ]
     },
     "execution_count": 6,
     "metadata": {},
     "output_type": "execute_result"
    }
   ],
   "source": [
    "df.dtypes\n",
    "# Except Income & Dt_Customer all the columns are in the desired format"
   ]
  },
  {
   "cell_type": "code",
   "execution_count": 7,
   "id": "156c6a93",
   "metadata": {},
   "outputs": [],
   "source": [
    "df['Income'] = pd.to_numeric(df['Income'])"
   ]
  },
  {
   "cell_type": "code",
   "execution_count": 8,
   "id": "023dc4a3",
   "metadata": {},
   "outputs": [],
   "source": [
    "df['Dt_Customer'] = pd.to_datetime(df['Dt_Customer'])"
   ]
  },
  {
   "cell_type": "code",
   "execution_count": 9,
   "id": "2f1e3bc6",
   "metadata": {},
   "outputs": [
    {
     "data": {
      "text/plain": [
       "ID                              int64\n",
       "Year_Birth                      int64\n",
       "Education                      object\n",
       "Marital_Status                 object\n",
       "Income                        float64\n",
       "Kidhome                         int64\n",
       "Teenhome                        int64\n",
       "Dt_Customer            datetime64[ns]\n",
       "Recency                         int64\n",
       "MntWines                        int64\n",
       "MntFruits                       int64\n",
       "MntMeatProducts                 int64\n",
       "MntFishProducts                 int64\n",
       "MntSweetProducts                int64\n",
       "MntGoldProds                    int64\n",
       "NumDealsPurchases               int64\n",
       "NumWebPurchases                 int64\n",
       "NumCatalogPurchases             int64\n",
       "NumStorePurchases               int64\n",
       "NumWebVisitsMonth               int64\n",
       "AcceptedCmp3                    int64\n",
       "AcceptedCmp4                    int64\n",
       "AcceptedCmp5                    int64\n",
       "AcceptedCmp1                    int64\n",
       "AcceptedCmp2                    int64\n",
       "Complain                        int64\n",
       "Z_CostContact                   int64\n",
       "Z_Revenue                       int64\n",
       "Response                        int64\n",
       "dtype: object"
      ]
     },
     "execution_count": 9,
     "metadata": {},
     "output_type": "execute_result"
    }
   ],
   "source": [
    "df.dtypes"
   ]
  },
  {
   "cell_type": "markdown",
   "id": "bf18cb2c",
   "metadata": {},
   "source": [
    "### II. Removing empty values"
   ]
  },
  {
   "cell_type": "code",
   "execution_count": 10,
   "id": "e08a320e",
   "metadata": {},
   "outputs": [],
   "source": [
    "# First, I need to replace the empty cells with NaNs\n",
    "df = df.replace(r'^\\s*$', np.NaN, regex=True) "
   ]
  },
  {
   "cell_type": "code",
   "execution_count": 11,
   "id": "30cf93a3",
   "metadata": {},
   "outputs": [
    {
     "data": {
      "text/html": [
       "<div>\n",
       "<style scoped>\n",
       "    .dataframe tbody tr th:only-of-type {\n",
       "        vertical-align: middle;\n",
       "    }\n",
       "\n",
       "    .dataframe tbody tr th {\n",
       "        vertical-align: top;\n",
       "    }\n",
       "\n",
       "    .dataframe thead th {\n",
       "        text-align: right;\n",
       "    }\n",
       "</style>\n",
       "<table border=\"1\" class=\"dataframe\">\n",
       "  <thead>\n",
       "    <tr style=\"text-align: right;\">\n",
       "      <th></th>\n",
       "      <th>ID</th>\n",
       "      <th>Year_Birth</th>\n",
       "      <th>Education</th>\n",
       "      <th>Marital_Status</th>\n",
       "      <th>Income</th>\n",
       "      <th>Kidhome</th>\n",
       "      <th>Teenhome</th>\n",
       "      <th>Dt_Customer</th>\n",
       "      <th>Recency</th>\n",
       "      <th>MntWines</th>\n",
       "      <th>...</th>\n",
       "      <th>NumWebVisitsMonth</th>\n",
       "      <th>AcceptedCmp3</th>\n",
       "      <th>AcceptedCmp4</th>\n",
       "      <th>AcceptedCmp5</th>\n",
       "      <th>AcceptedCmp1</th>\n",
       "      <th>AcceptedCmp2</th>\n",
       "      <th>Complain</th>\n",
       "      <th>Z_CostContact</th>\n",
       "      <th>Z_Revenue</th>\n",
       "      <th>Response</th>\n",
       "    </tr>\n",
       "  </thead>\n",
       "  <tbody>\n",
       "    <tr>\n",
       "      <th>0</th>\n",
       "      <td>5524</td>\n",
       "      <td>1957</td>\n",
       "      <td>Graduation</td>\n",
       "      <td>Single</td>\n",
       "      <td>58138.0</td>\n",
       "      <td>0</td>\n",
       "      <td>0</td>\n",
       "      <td>2012-04-09</td>\n",
       "      <td>58</td>\n",
       "      <td>635</td>\n",
       "      <td>...</td>\n",
       "      <td>7</td>\n",
       "      <td>0</td>\n",
       "      <td>0</td>\n",
       "      <td>0</td>\n",
       "      <td>0</td>\n",
       "      <td>0</td>\n",
       "      <td>0</td>\n",
       "      <td>3</td>\n",
       "      <td>11</td>\n",
       "      <td>1</td>\n",
       "    </tr>\n",
       "    <tr>\n",
       "      <th>1</th>\n",
       "      <td>2174</td>\n",
       "      <td>1954</td>\n",
       "      <td>Graduation</td>\n",
       "      <td>Single</td>\n",
       "      <td>46344.0</td>\n",
       "      <td>1</td>\n",
       "      <td>1</td>\n",
       "      <td>2014-08-03</td>\n",
       "      <td>38</td>\n",
       "      <td>11</td>\n",
       "      <td>...</td>\n",
       "      <td>5</td>\n",
       "      <td>0</td>\n",
       "      <td>0</td>\n",
       "      <td>0</td>\n",
       "      <td>0</td>\n",
       "      <td>0</td>\n",
       "      <td>0</td>\n",
       "      <td>3</td>\n",
       "      <td>11</td>\n",
       "      <td>0</td>\n",
       "    </tr>\n",
       "    <tr>\n",
       "      <th>2</th>\n",
       "      <td>4141</td>\n",
       "      <td>1965</td>\n",
       "      <td>Graduation</td>\n",
       "      <td>Together</td>\n",
       "      <td>71613.0</td>\n",
       "      <td>0</td>\n",
       "      <td>0</td>\n",
       "      <td>2013-08-21</td>\n",
       "      <td>26</td>\n",
       "      <td>426</td>\n",
       "      <td>...</td>\n",
       "      <td>4</td>\n",
       "      <td>0</td>\n",
       "      <td>0</td>\n",
       "      <td>0</td>\n",
       "      <td>0</td>\n",
       "      <td>0</td>\n",
       "      <td>0</td>\n",
       "      <td>3</td>\n",
       "      <td>11</td>\n",
       "      <td>0</td>\n",
       "    </tr>\n",
       "    <tr>\n",
       "      <th>3</th>\n",
       "      <td>6182</td>\n",
       "      <td>1984</td>\n",
       "      <td>Graduation</td>\n",
       "      <td>Together</td>\n",
       "      <td>26646.0</td>\n",
       "      <td>1</td>\n",
       "      <td>0</td>\n",
       "      <td>2014-10-02</td>\n",
       "      <td>26</td>\n",
       "      <td>11</td>\n",
       "      <td>...</td>\n",
       "      <td>6</td>\n",
       "      <td>0</td>\n",
       "      <td>0</td>\n",
       "      <td>0</td>\n",
       "      <td>0</td>\n",
       "      <td>0</td>\n",
       "      <td>0</td>\n",
       "      <td>3</td>\n",
       "      <td>11</td>\n",
       "      <td>0</td>\n",
       "    </tr>\n",
       "    <tr>\n",
       "      <th>4</th>\n",
       "      <td>5324</td>\n",
       "      <td>1981</td>\n",
       "      <td>PhD</td>\n",
       "      <td>Married</td>\n",
       "      <td>58293.0</td>\n",
       "      <td>1</td>\n",
       "      <td>0</td>\n",
       "      <td>2014-01-19</td>\n",
       "      <td>94</td>\n",
       "      <td>173</td>\n",
       "      <td>...</td>\n",
       "      <td>5</td>\n",
       "      <td>0</td>\n",
       "      <td>0</td>\n",
       "      <td>0</td>\n",
       "      <td>0</td>\n",
       "      <td>0</td>\n",
       "      <td>0</td>\n",
       "      <td>3</td>\n",
       "      <td>11</td>\n",
       "      <td>0</td>\n",
       "    </tr>\n",
       "    <tr>\n",
       "      <th>5</th>\n",
       "      <td>7446</td>\n",
       "      <td>1967</td>\n",
       "      <td>Master</td>\n",
       "      <td>Together</td>\n",
       "      <td>62513.0</td>\n",
       "      <td>0</td>\n",
       "      <td>1</td>\n",
       "      <td>2013-09-09</td>\n",
       "      <td>16</td>\n",
       "      <td>520</td>\n",
       "      <td>...</td>\n",
       "      <td>6</td>\n",
       "      <td>0</td>\n",
       "      <td>0</td>\n",
       "      <td>0</td>\n",
       "      <td>0</td>\n",
       "      <td>0</td>\n",
       "      <td>0</td>\n",
       "      <td>3</td>\n",
       "      <td>11</td>\n",
       "      <td>0</td>\n",
       "    </tr>\n",
       "    <tr>\n",
       "      <th>6</th>\n",
       "      <td>965</td>\n",
       "      <td>1971</td>\n",
       "      <td>Graduation</td>\n",
       "      <td>Divorced</td>\n",
       "      <td>55635.0</td>\n",
       "      <td>0</td>\n",
       "      <td>1</td>\n",
       "      <td>2012-11-13</td>\n",
       "      <td>34</td>\n",
       "      <td>235</td>\n",
       "      <td>...</td>\n",
       "      <td>6</td>\n",
       "      <td>0</td>\n",
       "      <td>0</td>\n",
       "      <td>0</td>\n",
       "      <td>0</td>\n",
       "      <td>0</td>\n",
       "      <td>0</td>\n",
       "      <td>3</td>\n",
       "      <td>11</td>\n",
       "      <td>0</td>\n",
       "    </tr>\n",
       "    <tr>\n",
       "      <th>7</th>\n",
       "      <td>6177</td>\n",
       "      <td>1985</td>\n",
       "      <td>PhD</td>\n",
       "      <td>Married</td>\n",
       "      <td>33454.0</td>\n",
       "      <td>1</td>\n",
       "      <td>0</td>\n",
       "      <td>2013-08-05</td>\n",
       "      <td>32</td>\n",
       "      <td>76</td>\n",
       "      <td>...</td>\n",
       "      <td>8</td>\n",
       "      <td>0</td>\n",
       "      <td>0</td>\n",
       "      <td>0</td>\n",
       "      <td>0</td>\n",
       "      <td>0</td>\n",
       "      <td>0</td>\n",
       "      <td>3</td>\n",
       "      <td>11</td>\n",
       "      <td>0</td>\n",
       "    </tr>\n",
       "    <tr>\n",
       "      <th>8</th>\n",
       "      <td>4855</td>\n",
       "      <td>1974</td>\n",
       "      <td>PhD</td>\n",
       "      <td>Together</td>\n",
       "      <td>30351.0</td>\n",
       "      <td>1</td>\n",
       "      <td>0</td>\n",
       "      <td>2013-06-06</td>\n",
       "      <td>19</td>\n",
       "      <td>14</td>\n",
       "      <td>...</td>\n",
       "      <td>9</td>\n",
       "      <td>0</td>\n",
       "      <td>0</td>\n",
       "      <td>0</td>\n",
       "      <td>0</td>\n",
       "      <td>0</td>\n",
       "      <td>0</td>\n",
       "      <td>3</td>\n",
       "      <td>11</td>\n",
       "      <td>1</td>\n",
       "    </tr>\n",
       "    <tr>\n",
       "      <th>9</th>\n",
       "      <td>5899</td>\n",
       "      <td>1950</td>\n",
       "      <td>PhD</td>\n",
       "      <td>Together</td>\n",
       "      <td>5648.0</td>\n",
       "      <td>1</td>\n",
       "      <td>1</td>\n",
       "      <td>2014-03-13</td>\n",
       "      <td>68</td>\n",
       "      <td>28</td>\n",
       "      <td>...</td>\n",
       "      <td>20</td>\n",
       "      <td>1</td>\n",
       "      <td>0</td>\n",
       "      <td>0</td>\n",
       "      <td>0</td>\n",
       "      <td>0</td>\n",
       "      <td>0</td>\n",
       "      <td>3</td>\n",
       "      <td>11</td>\n",
       "      <td>0</td>\n",
       "    </tr>\n",
       "    <tr>\n",
       "      <th>10</th>\n",
       "      <td>1994</td>\n",
       "      <td>1983</td>\n",
       "      <td>Graduation</td>\n",
       "      <td>Married</td>\n",
       "      <td>NaN</td>\n",
       "      <td>1</td>\n",
       "      <td>0</td>\n",
       "      <td>2013-11-15</td>\n",
       "      <td>11</td>\n",
       "      <td>5</td>\n",
       "      <td>...</td>\n",
       "      <td>7</td>\n",
       "      <td>0</td>\n",
       "      <td>0</td>\n",
       "      <td>0</td>\n",
       "      <td>0</td>\n",
       "      <td>0</td>\n",
       "      <td>0</td>\n",
       "      <td>3</td>\n",
       "      <td>11</td>\n",
       "      <td>0</td>\n",
       "    </tr>\n",
       "  </tbody>\n",
       "</table>\n",
       "<p>11 rows × 29 columns</p>\n",
       "</div>"
      ],
      "text/plain": [
       "      ID  Year_Birth   Education Marital_Status   Income  Kidhome  Teenhome  \\\n",
       "0   5524        1957  Graduation         Single  58138.0        0         0   \n",
       "1   2174        1954  Graduation         Single  46344.0        1         1   \n",
       "2   4141        1965  Graduation       Together  71613.0        0         0   \n",
       "3   6182        1984  Graduation       Together  26646.0        1         0   \n",
       "4   5324        1981         PhD        Married  58293.0        1         0   \n",
       "5   7446        1967      Master       Together  62513.0        0         1   \n",
       "6    965        1971  Graduation       Divorced  55635.0        0         1   \n",
       "7   6177        1985         PhD        Married  33454.0        1         0   \n",
       "8   4855        1974         PhD       Together  30351.0        1         0   \n",
       "9   5899        1950         PhD       Together   5648.0        1         1   \n",
       "10  1994        1983  Graduation        Married      NaN        1         0   \n",
       "\n",
       "   Dt_Customer  Recency  MntWines  ...  NumWebVisitsMonth  AcceptedCmp3  \\\n",
       "0   2012-04-09       58       635  ...                  7             0   \n",
       "1   2014-08-03       38        11  ...                  5             0   \n",
       "2   2013-08-21       26       426  ...                  4             0   \n",
       "3   2014-10-02       26        11  ...                  6             0   \n",
       "4   2014-01-19       94       173  ...                  5             0   \n",
       "5   2013-09-09       16       520  ...                  6             0   \n",
       "6   2012-11-13       34       235  ...                  6             0   \n",
       "7   2013-08-05       32        76  ...                  8             0   \n",
       "8   2013-06-06       19        14  ...                  9             0   \n",
       "9   2014-03-13       68        28  ...                 20             1   \n",
       "10  2013-11-15       11         5  ...                  7             0   \n",
       "\n",
       "    AcceptedCmp4  AcceptedCmp5  AcceptedCmp1  AcceptedCmp2  Complain  \\\n",
       "0              0             0             0             0         0   \n",
       "1              0             0             0             0         0   \n",
       "2              0             0             0             0         0   \n",
       "3              0             0             0             0         0   \n",
       "4              0             0             0             0         0   \n",
       "5              0             0             0             0         0   \n",
       "6              0             0             0             0         0   \n",
       "7              0             0             0             0         0   \n",
       "8              0             0             0             0         0   \n",
       "9              0             0             0             0         0   \n",
       "10             0             0             0             0         0   \n",
       "\n",
       "    Z_CostContact  Z_Revenue  Response  \n",
       "0               3         11         1  \n",
       "1               3         11         0  \n",
       "2               3         11         0  \n",
       "3               3         11         0  \n",
       "4               3         11         0  \n",
       "5               3         11         0  \n",
       "6               3         11         0  \n",
       "7               3         11         0  \n",
       "8               3         11         1  \n",
       "9               3         11         0  \n",
       "10              3         11         0  \n",
       "\n",
       "[11 rows x 29 columns]"
      ]
     },
     "execution_count": 11,
     "metadata": {},
     "output_type": "execute_result"
    }
   ],
   "source": [
    "df.head(11)"
   ]
  },
  {
   "cell_type": "code",
   "execution_count": 12,
   "id": "59c3e256",
   "metadata": {
    "scrolled": true
   },
   "outputs": [
    {
     "data": {
      "text/plain": [
       "ID                      0\n",
       "Year_Birth              0\n",
       "Education               0\n",
       "Marital_Status          0\n",
       "Income                 24\n",
       "Kidhome                 0\n",
       "Teenhome                0\n",
       "Dt_Customer             0\n",
       "Recency                 0\n",
       "MntWines                0\n",
       "MntFruits               0\n",
       "MntMeatProducts         0\n",
       "MntFishProducts         0\n",
       "MntSweetProducts        0\n",
       "MntGoldProds            0\n",
       "NumDealsPurchases       0\n",
       "NumWebPurchases         0\n",
       "NumCatalogPurchases     0\n",
       "NumStorePurchases       0\n",
       "NumWebVisitsMonth       0\n",
       "AcceptedCmp3            0\n",
       "AcceptedCmp4            0\n",
       "AcceptedCmp5            0\n",
       "AcceptedCmp1            0\n",
       "AcceptedCmp2            0\n",
       "Complain                0\n",
       "Z_CostContact           0\n",
       "Z_Revenue               0\n",
       "Response                0\n",
       "dtype: int64"
      ]
     },
     "execution_count": 12,
     "metadata": {},
     "output_type": "execute_result"
    }
   ],
   "source": [
    "df.isnull().sum()"
   ]
  },
  {
   "cell_type": "markdown",
   "id": "5422c99a",
   "metadata": {},
   "source": [
    "I have 24 NaN values in my the Income column which I need to replace with either the mean, the median or mode:"
   ]
  },
  {
   "cell_type": "code",
   "execution_count": 13,
   "id": "5f2a44d9",
   "metadata": {},
   "outputs": [
    {
     "data": {
      "image/png": "[encoded data removed]",
      "text/plain": [
       "<Figure size 1152x648 with 1 Axes>"
      ]
     },
     "metadata": {},
     "output_type": "display_data"
    }
   ],
   "source": [
    "# Checking how the data is distributed\n",
    "sns.histplot(x = df['Income']);"
   ]
  },
  {
   "cell_type": "code",
   "execution_count": 14,
   "id": "f0a58482",
   "metadata": {},
   "outputs": [
    {
     "data": {
      "text/plain": [
       "<AxesSubplot:xlabel='Income'>"
      ]
     },
     "execution_count": 14,
     "metadata": {},
     "output_type": "execute_result"
    },
    {
     "data": {
      "image/png": "[encoded data removed]",
      "text/plain": [
       "<Figure size 1152x648 with 1 Axes>"
      ]
     },
     "metadata": {},
     "output_type": "display_data"
    }
   ],
   "source": [
    "sns.boxplot(x = df['Income'])"
   ]
  },
  {
   "cell_type": "markdown",
   "id": "6e906d2e",
   "metadata": {},
   "source": [
    "There are some outliers which are going to affect my mean, so I need to calculate the mean without considering those numbers."
   ]
  },
  {
   "cell_type": "code",
   "execution_count": 15,
   "id": "9be42d85",
   "metadata": {},
   "outputs": [
    {
     "data": {
      "text/plain": [
       "52143.19977678572"
      ]
     },
     "execution_count": 15,
     "metadata": {},
     "output_type": "execute_result"
    }
   ],
   "source": [
    "# Using the method of trimmed mean to remove the outliers\n",
    "trim_mean(df['Income'], 0.1)"
   ]
  },
  {
   "cell_type": "code",
   "execution_count": 16,
   "id": "fd9115ba",
   "metadata": {},
   "outputs": [
    {
     "data": {
      "text/plain": [
       "52247.25135379061"
      ]
     },
     "execution_count": 16,
     "metadata": {},
     "output_type": "execute_result"
    }
   ],
   "source": [
    "# Lower than the mean of the income with the outliers\n",
    "df['Income'].mean()"
   ]
  },
  {
   "cell_type": "code",
   "execution_count": 17,
   "id": "16711e46",
   "metadata": {},
   "outputs": [],
   "source": [
    "df['Income'].fillna((trim_mean(df['Income'], 0.1).mean()), inplace = True)"
   ]
  },
  {
   "cell_type": "code",
   "execution_count": 18,
   "id": "06cf3ded",
   "metadata": {},
   "outputs": [
    {
     "data": {
      "text/plain": [
       "ID                     0\n",
       "Year_Birth             0\n",
       "Education              0\n",
       "Marital_Status         0\n",
       "Income                 0\n",
       "Kidhome                0\n",
       "Teenhome               0\n",
       "Dt_Customer            0\n",
       "Recency                0\n",
       "MntWines               0\n",
       "MntFruits              0\n",
       "MntMeatProducts        0\n",
       "MntFishProducts        0\n",
       "MntSweetProducts       0\n",
       "MntGoldProds           0\n",
       "NumDealsPurchases      0\n",
       "NumWebPurchases        0\n",
       "NumCatalogPurchases    0\n",
       "NumStorePurchases      0\n",
       "NumWebVisitsMonth      0\n",
       "AcceptedCmp3           0\n",
       "AcceptedCmp4           0\n",
       "AcceptedCmp5           0\n",
       "AcceptedCmp1           0\n",
       "AcceptedCmp2           0\n",
       "Complain               0\n",
       "Z_CostContact          0\n",
       "Z_Revenue              0\n",
       "Response               0\n",
       "dtype: int64"
      ]
     },
     "execution_count": 18,
     "metadata": {},
     "output_type": "execute_result"
    }
   ],
   "source": [
    "df.isnull().sum()"
   ]
  },
  {
   "cell_type": "markdown",
   "id": "5c8c2996",
   "metadata": {},
   "source": [
    "### III. Exploring the data per column"
   ]
  },
  {
   "cell_type": "markdown",
   "id": "a1f2fe33",
   "metadata": {},
   "source": [
    "1. From the people attributes I will keep most of the columns except for the ID, which for my analysis it does not add me any value and I can identify my customer with the index number."
   ]
  },
  {
   "cell_type": "code",
   "execution_count": 19,
   "id": "47ce4a46",
   "metadata": {},
   "outputs": [
    {
     "name": "stdout",
     "output_type": "stream",
     "text": [
      "['Graduation' 'PhD' 'Master' 'Basic' '2n Cycle']\n",
      "['Single' 'Together' 'Married' 'Divorced' 'Widow' 'Alone' 'Absurd' 'YOLO']\n"
     ]
    }
   ],
   "source": [
    "print(df['Education'].unique())\n",
    "print(df['Marital_Status'].unique())"
   ]
  },
  {
   "cell_type": "code",
   "execution_count": 20,
   "id": "1db11162",
   "metadata": {
    "scrolled": true
   },
   "outputs": [
    {
     "data": {
      "text/plain": [
       "Married     864\n",
       "Together    580\n",
       "Single      480\n",
       "Divorced    232\n",
       "Widow        77\n",
       "Alone         3\n",
       "Absurd        2\n",
       "YOLO          2\n",
       "Name: Marital_Status, dtype: int64"
      ]
     },
     "execution_count": 20,
     "metadata": {},
     "output_type": "execute_result"
    }
   ],
   "source": [
    "df['Marital_Status'].value_counts()\n",
    "# The attributes of Alone, Absurd & YOLO I can move them to Single"
   ]
  },
  {
   "cell_type": "code",
   "execution_count": 21,
   "id": "c6c91865",
   "metadata": {},
   "outputs": [],
   "source": [
    "df['Marital_Status'].replace({'Alone': 'Single', 'Absurd': 'Single', 'YOLO': 'Single'}, inplace = True)"
   ]
  },
  {
   "cell_type": "code",
   "execution_count": 22,
   "id": "a3274fc5",
   "metadata": {},
   "outputs": [
    {
     "data": {
      "text/plain": [
       "Married     864\n",
       "Together    580\n",
       "Single      487\n",
       "Divorced    232\n",
       "Widow        77\n",
       "Name: Marital_Status, dtype: int64"
      ]
     },
     "execution_count": 22,
     "metadata": {},
     "output_type": "execute_result"
    }
   ],
   "source": [
    "df['Marital_Status'].value_counts()"
   ]
  },
  {
   "cell_type": "markdown",
   "id": "4aac2ed1",
   "metadata": {},
   "source": [
    "2. Then, the products bought columns for the moment I am going to keep all of them as they might give me key info about people's preferences around food."
   ]
  },
  {
   "cell_type": "markdown",
   "id": "d0b36134",
   "metadata": {},
   "source": [
    "3. Then, for the promotion columns, let's examine all the columns 'Accepted Campaign' columns, which I have 5, to see if I need them or not:"
   ]
  },
  {
   "cell_type": "code",
   "execution_count": 23,
   "id": "77d0ba88",
   "metadata": {},
   "outputs": [
    {
     "data": {
      "text/plain": [
       "1     970\n",
       "2     497\n",
       "3     297\n",
       "4     189\n",
       "5      94\n",
       "6      61\n",
       "0      46\n",
       "7      40\n",
       "8      14\n",
       "9       8\n",
       "15      7\n",
       "10      5\n",
       "11      5\n",
       "12      4\n",
       "13      3\n",
       "Name: NumDealsPurchases, dtype: int64"
      ]
     },
     "execution_count": 23,
     "metadata": {},
     "output_type": "execute_result"
    }
   ],
   "source": [
    "df['NumDealsPurchases'].value_counts()"
   ]
  },
  {
   "cell_type": "code",
   "execution_count": 24,
   "id": "07a3db7a",
   "metadata": {},
   "outputs": [
    {
     "data": {
      "text/plain": [
       "0    2096\n",
       "1     144\n",
       "Name: AcceptedCmp1, dtype: int64"
      ]
     },
     "execution_count": 24,
     "metadata": {},
     "output_type": "execute_result"
    }
   ],
   "source": [
    "df['AcceptedCmp1'].value_counts()"
   ]
  },
  {
   "cell_type": "code",
   "execution_count": 25,
   "id": "ea0b5ca7",
   "metadata": {},
   "outputs": [
    {
     "data": {
      "text/plain": [
       "0    2210\n",
       "1      30\n",
       "Name: AcceptedCmp2, dtype: int64"
      ]
     },
     "execution_count": 25,
     "metadata": {},
     "output_type": "execute_result"
    }
   ],
   "source": [
    "df['AcceptedCmp2'].value_counts()"
   ]
  },
  {
   "cell_type": "code",
   "execution_count": 26,
   "id": "d5ada65a",
   "metadata": {},
   "outputs": [
    {
     "data": {
      "text/plain": [
       "0    2077\n",
       "1     163\n",
       "Name: AcceptedCmp3, dtype: int64"
      ]
     },
     "execution_count": 26,
     "metadata": {},
     "output_type": "execute_result"
    }
   ],
   "source": [
    "df['AcceptedCmp3'].value_counts()"
   ]
  },
  {
   "cell_type": "code",
   "execution_count": 27,
   "id": "375912e8",
   "metadata": {},
   "outputs": [
    {
     "data": {
      "text/plain": [
       "0    2073\n",
       "1     167\n",
       "Name: AcceptedCmp4, dtype: int64"
      ]
     },
     "execution_count": 27,
     "metadata": {},
     "output_type": "execute_result"
    }
   ],
   "source": [
    "df['AcceptedCmp4'].value_counts()"
   ]
  },
  {
   "cell_type": "code",
   "execution_count": 28,
   "id": "d2c0497c",
   "metadata": {},
   "outputs": [
    {
     "data": {
      "text/plain": [
       "0    2077\n",
       "1     163\n",
       "Name: AcceptedCmp5, dtype: int64"
      ]
     },
     "execution_count": 28,
     "metadata": {},
     "output_type": "execute_result"
    }
   ],
   "source": [
    "df['AcceptedCmp5'].value_counts()"
   ]
  },
  {
   "cell_type": "code",
   "execution_count": 29,
   "id": "1fe45143",
   "metadata": {},
   "outputs": [
    {
     "data": {
      "text/plain": [
       "0    1906\n",
       "1     334\n",
       "Name: Response, dtype: int64"
      ]
     },
     "execution_count": 29,
     "metadata": {},
     "output_type": "execute_result"
    }
   ],
   "source": [
    "df['Response'].value_counts()"
   ]
  },
  {
   "cell_type": "markdown",
   "id": "06fd2abd",
   "metadata": {},
   "source": [
    "The 'AcceptedCmp#' and the 'Response' columns do not give much value to the analysis so I will just keep the 'NumDealsPurchases' column."
   ]
  },
  {
   "cell_type": "markdown",
   "id": "2f3c63be",
   "metadata": {},
   "source": [
    "4. For the place related columns I will keep all of them as well for the moment. "
   ]
  },
  {
   "cell_type": "markdown",
   "id": "abe5df2d",
   "metadata": {},
   "source": [
    "5. Finally, let's examine the columns of 'Complain', Z_CostContact' & 'Z_Revenue'"
   ]
  },
  {
   "cell_type": "code",
   "execution_count": 30,
   "id": "1f54ba7c",
   "metadata": {},
   "outputs": [
    {
     "data": {
      "text/plain": [
       "3    2240\n",
       "Name: Z_CostContact, dtype: int64"
      ]
     },
     "execution_count": 30,
     "metadata": {},
     "output_type": "execute_result"
    }
   ],
   "source": [
    "df['Z_CostContact'].value_counts()"
   ]
  },
  {
   "cell_type": "code",
   "execution_count": 31,
   "id": "f61210e5",
   "metadata": {},
   "outputs": [
    {
     "data": {
      "text/plain": [
       "11    2240\n",
       "Name: Z_Revenue, dtype: int64"
      ]
     },
     "execution_count": 31,
     "metadata": {},
     "output_type": "execute_result"
    }
   ],
   "source": [
    "df['Z_Revenue'].value_counts()"
   ]
  },
  {
   "cell_type": "code",
   "execution_count": 32,
   "id": "fca8aef6",
   "metadata": {},
   "outputs": [
    {
     "data": {
      "text/plain": [
       "0    2219\n",
       "1      21\n",
       "Name: Complain, dtype: int64"
      ]
     },
     "execution_count": 32,
     "metadata": {},
     "output_type": "execute_result"
    }
   ],
   "source": [
    "df['Complain'].value_counts()\n",
    "# There are only 21 complains over the last 2 years so I can also remove this column for my analysis"
   ]
  },
  {
   "cell_type": "markdown",
   "id": "642886f2",
   "metadata": {},
   "source": [
    "They do not add that much value so I will also remove them."
   ]
  },
  {
   "cell_type": "code",
   "execution_count": 33,
   "id": "a25659af",
   "metadata": {},
   "outputs": [],
   "source": [
    "df.drop(columns = ['ID', 'AcceptedCmp1', 'AcceptedCmp2', 'AcceptedCmp3', 'AcceptedCmp4', 'AcceptedCmp5', 'Response', 'Z_CostContact', 'Z_Revenue', 'Complain'], inplace = True)"
   ]
  },
  {
   "cell_type": "code",
   "execution_count": 34,
   "id": "3a3b0dc5",
   "metadata": {},
   "outputs": [
    {
     "data": {
      "text/plain": [
       "(2240, 19)"
      ]
     },
     "execution_count": 34,
     "metadata": {},
     "output_type": "execute_result"
    }
   ],
   "source": [
    "df.shape"
   ]
  },
  {
   "cell_type": "code",
   "execution_count": 35,
   "id": "f7c7b00d",
   "metadata": {
    "scrolled": true
   },
   "outputs": [
    {
     "data": {
      "text/html": [
       "<div>\n",
       "<style scoped>\n",
       "    .dataframe tbody tr th:only-of-type {\n",
       "        vertical-align: middle;\n",
       "    }\n",
       "\n",
       "    .dataframe tbody tr th {\n",
       "        vertical-align: top;\n",
       "    }\n",
       "\n",
       "    .dataframe thead th {\n",
       "        text-align: right;\n",
       "    }\n",
       "</style>\n",
       "<table border=\"1\" class=\"dataframe\">\n",
       "  <thead>\n",
       "    <tr style=\"text-align: right;\">\n",
       "      <th></th>\n",
       "      <th>Year_Birth</th>\n",
       "      <th>Education</th>\n",
       "      <th>Marital_Status</th>\n",
       "      <th>Income</th>\n",
       "      <th>Kidhome</th>\n",
       "      <th>Teenhome</th>\n",
       "      <th>Dt_Customer</th>\n",
       "      <th>Recency</th>\n",
       "      <th>MntWines</th>\n",
       "      <th>MntFruits</th>\n",
       "      <th>MntMeatProducts</th>\n",
       "      <th>MntFishProducts</th>\n",
       "      <th>MntSweetProducts</th>\n",
       "      <th>MntGoldProds</th>\n",
       "      <th>NumDealsPurchases</th>\n",
       "      <th>NumWebPurchases</th>\n",
       "      <th>NumCatalogPurchases</th>\n",
       "      <th>NumStorePurchases</th>\n",
       "      <th>NumWebVisitsMonth</th>\n",
       "    </tr>\n",
       "  </thead>\n",
       "  <tbody>\n",
       "    <tr>\n",
       "      <th>0</th>\n",
       "      <td>1957</td>\n",
       "      <td>Graduation</td>\n",
       "      <td>Single</td>\n",
       "      <td>58138.0</td>\n",
       "      <td>0</td>\n",
       "      <td>0</td>\n",
       "      <td>2012-04-09</td>\n",
       "      <td>58</td>\n",
       "      <td>635</td>\n",
       "      <td>88</td>\n",
       "      <td>546</td>\n",
       "      <td>172</td>\n",
       "      <td>88</td>\n",
       "      <td>88</td>\n",
       "      <td>3</td>\n",
       "      <td>8</td>\n",
       "      <td>10</td>\n",
       "      <td>4</td>\n",
       "      <td>7</td>\n",
       "    </tr>\n",
       "    <tr>\n",
       "      <th>1</th>\n",
       "      <td>1954</td>\n",
       "      <td>Graduation</td>\n",
       "      <td>Single</td>\n",
       "      <td>46344.0</td>\n",
       "      <td>1</td>\n",
       "      <td>1</td>\n",
       "      <td>2014-08-03</td>\n",
       "      <td>38</td>\n",
       "      <td>11</td>\n",
       "      <td>1</td>\n",
       "      <td>6</td>\n",
       "      <td>2</td>\n",
       "      <td>1</td>\n",
       "      <td>6</td>\n",
       "      <td>2</td>\n",
       "      <td>1</td>\n",
       "      <td>1</td>\n",
       "      <td>2</td>\n",
       "      <td>5</td>\n",
       "    </tr>\n",
       "    <tr>\n",
       "      <th>2</th>\n",
       "      <td>1965</td>\n",
       "      <td>Graduation</td>\n",
       "      <td>Together</td>\n",
       "      <td>71613.0</td>\n",
       "      <td>0</td>\n",
       "      <td>0</td>\n",
       "      <td>2013-08-21</td>\n",
       "      <td>26</td>\n",
       "      <td>426</td>\n",
       "      <td>49</td>\n",
       "      <td>127</td>\n",
       "      <td>111</td>\n",
       "      <td>21</td>\n",
       "      <td>42</td>\n",
       "      <td>1</td>\n",
       "      <td>8</td>\n",
       "      <td>2</td>\n",
       "      <td>10</td>\n",
       "      <td>4</td>\n",
       "    </tr>\n",
       "    <tr>\n",
       "      <th>3</th>\n",
       "      <td>1984</td>\n",
       "      <td>Graduation</td>\n",
       "      <td>Together</td>\n",
       "      <td>26646.0</td>\n",
       "      <td>1</td>\n",
       "      <td>0</td>\n",
       "      <td>2014-10-02</td>\n",
       "      <td>26</td>\n",
       "      <td>11</td>\n",
       "      <td>4</td>\n",
       "      <td>20</td>\n",
       "      <td>10</td>\n",
       "      <td>3</td>\n",
       "      <td>5</td>\n",
       "      <td>2</td>\n",
       "      <td>2</td>\n",
       "      <td>0</td>\n",
       "      <td>4</td>\n",
       "      <td>6</td>\n",
       "    </tr>\n",
       "    <tr>\n",
       "      <th>4</th>\n",
       "      <td>1981</td>\n",
       "      <td>PhD</td>\n",
       "      <td>Married</td>\n",
       "      <td>58293.0</td>\n",
       "      <td>1</td>\n",
       "      <td>0</td>\n",
       "      <td>2014-01-19</td>\n",
       "      <td>94</td>\n",
       "      <td>173</td>\n",
       "      <td>43</td>\n",
       "      <td>118</td>\n",
       "      <td>46</td>\n",
       "      <td>27</td>\n",
       "      <td>15</td>\n",
       "      <td>5</td>\n",
       "      <td>5</td>\n",
       "      <td>3</td>\n",
       "      <td>6</td>\n",
       "      <td>5</td>\n",
       "    </tr>\n",
       "  </tbody>\n",
       "</table>\n",
       "</div>"
      ],
      "text/plain": [
       "   Year_Birth   Education Marital_Status   Income  Kidhome  Teenhome  \\\n",
       "0        1957  Graduation         Single  58138.0        0         0   \n",
       "1        1954  Graduation         Single  46344.0        1         1   \n",
       "2        1965  Graduation       Together  71613.0        0         0   \n",
       "3        1984  Graduation       Together  26646.0        1         0   \n",
       "4        1981         PhD        Married  58293.0        1         0   \n",
       "\n",
       "  Dt_Customer  Recency  MntWines  MntFruits  MntMeatProducts  MntFishProducts  \\\n",
       "0  2012-04-09       58       635         88              546              172   \n",
       "1  2014-08-03       38        11          1                6                2   \n",
       "2  2013-08-21       26       426         49              127              111   \n",
       "3  2014-10-02       26        11          4               20               10   \n",
       "4  2014-01-19       94       173         43              118               46   \n",
       "\n",
       "   MntSweetProducts  MntGoldProds  NumDealsPurchases  NumWebPurchases  \\\n",
       "0                88            88                  3                8   \n",
       "1                 1             6                  2                1   \n",
       "2                21            42                  1                8   \n",
       "3                 3             5                  2                2   \n",
       "4                27            15                  5                5   \n",
       "\n",
       "   NumCatalogPurchases  NumStorePurchases  NumWebVisitsMonth  \n",
       "0                   10                  4                  7  \n",
       "1                    1                  2                  5  \n",
       "2                    2                 10                  4  \n",
       "3                    0                  4                  6  \n",
       "4                    3                  6                  5  "
      ]
     },
     "execution_count": 35,
     "metadata": {},
     "output_type": "execute_result"
    }
   ],
   "source": [
    "df.head()"
   ]
  },
  {
   "cell_type": "markdown",
   "id": "e16d9883",
   "metadata": {},
   "source": [
    "Also, for my kidhome & teenhome columns I can merge both of them as overall I am interested in knowing if they have children or not, not the age of the children. In another case it would serve me to know the age of the customer, but I already have the year of birth."
   ]
  },
  {
   "cell_type": "code",
   "execution_count": 36,
   "id": "b0682886",
   "metadata": {},
   "outputs": [],
   "source": [
    "sum_columns = df['Kidhome'] + df['Teenhome']"
   ]
  },
  {
   "cell_type": "code",
   "execution_count": 37,
   "id": "142907b4",
   "metadata": {},
   "outputs": [],
   "source": [
    "df['Kids'] = sum_columns"
   ]
  },
  {
   "cell_type": "code",
   "execution_count": 38,
   "id": "259b5dd0",
   "metadata": {},
   "outputs": [],
   "source": [
    "df.drop(columns = ['Kidhome', 'Teenhome'], inplace = True)"
   ]
  },
  {
   "cell_type": "code",
   "execution_count": 39,
   "id": "16d56b91",
   "metadata": {},
   "outputs": [
    {
     "data": {
      "text/html": [
       "<div>\n",
       "<style scoped>\n",
       "    .dataframe tbody tr th:only-of-type {\n",
       "        vertical-align: middle;\n",
       "    }\n",
       "\n",
       "    .dataframe tbody tr th {\n",
       "        vertical-align: top;\n",
       "    }\n",
       "\n",
       "    .dataframe thead th {\n",
       "        text-align: right;\n",
       "    }\n",
       "</style>\n",
       "<table border=\"1\" class=\"dataframe\">\n",
       "  <thead>\n",
       "    <tr style=\"text-align: right;\">\n",
       "      <th></th>\n",
       "      <th>Year_Birth</th>\n",
       "      <th>Education</th>\n",
       "      <th>Marital_Status</th>\n",
       "      <th>Income</th>\n",
       "      <th>Dt_Customer</th>\n",
       "      <th>Recency</th>\n",
       "      <th>MntWines</th>\n",
       "      <th>MntFruits</th>\n",
       "      <th>MntMeatProducts</th>\n",
       "      <th>MntFishProducts</th>\n",
       "      <th>MntSweetProducts</th>\n",
       "      <th>MntGoldProds</th>\n",
       "      <th>NumDealsPurchases</th>\n",
       "      <th>NumWebPurchases</th>\n",
       "      <th>NumCatalogPurchases</th>\n",
       "      <th>NumStorePurchases</th>\n",
       "      <th>NumWebVisitsMonth</th>\n",
       "      <th>Kids</th>\n",
       "    </tr>\n",
       "  </thead>\n",
       "  <tbody>\n",
       "    <tr>\n",
       "      <th>0</th>\n",
       "      <td>1957</td>\n",
       "      <td>Graduation</td>\n",
       "      <td>Single</td>\n",
       "      <td>58138.0</td>\n",
       "      <td>2012-04-09</td>\n",
       "      <td>58</td>\n",
       "      <td>635</td>\n",
       "      <td>88</td>\n",
       "      <td>546</td>\n",
       "      <td>172</td>\n",
       "      <td>88</td>\n",
       "      <td>88</td>\n",
       "      <td>3</td>\n",
       "      <td>8</td>\n",
       "      <td>10</td>\n",
       "      <td>4</td>\n",
       "      <td>7</td>\n",
       "      <td>0</td>\n",
       "    </tr>\n",
       "    <tr>\n",
       "      <th>1</th>\n",
       "      <td>1954</td>\n",
       "      <td>Graduation</td>\n",
       "      <td>Single</td>\n",
       "      <td>46344.0</td>\n",
       "      <td>2014-08-03</td>\n",
       "      <td>38</td>\n",
       "      <td>11</td>\n",
       "      <td>1</td>\n",
       "      <td>6</td>\n",
       "      <td>2</td>\n",
       "      <td>1</td>\n",
       "      <td>6</td>\n",
       "      <td>2</td>\n",
       "      <td>1</td>\n",
       "      <td>1</td>\n",
       "      <td>2</td>\n",
       "      <td>5</td>\n",
       "      <td>2</td>\n",
       "    </tr>\n",
       "    <tr>\n",
       "      <th>2</th>\n",
       "      <td>1965</td>\n",
       "      <td>Graduation</td>\n",
       "      <td>Together</td>\n",
       "      <td>71613.0</td>\n",
       "      <td>2013-08-21</td>\n",
       "      <td>26</td>\n",
       "      <td>426</td>\n",
       "      <td>49</td>\n",
       "      <td>127</td>\n",
       "      <td>111</td>\n",
       "      <td>21</td>\n",
       "      <td>42</td>\n",
       "      <td>1</td>\n",
       "      <td>8</td>\n",
       "      <td>2</td>\n",
       "      <td>10</td>\n",
       "      <td>4</td>\n",
       "      <td>0</td>\n",
       "    </tr>\n",
       "    <tr>\n",
       "      <th>3</th>\n",
       "      <td>1984</td>\n",
       "      <td>Graduation</td>\n",
       "      <td>Together</td>\n",
       "      <td>26646.0</td>\n",
       "      <td>2014-10-02</td>\n",
       "      <td>26</td>\n",
       "      <td>11</td>\n",
       "      <td>4</td>\n",
       "      <td>20</td>\n",
       "      <td>10</td>\n",
       "      <td>3</td>\n",
       "      <td>5</td>\n",
       "      <td>2</td>\n",
       "      <td>2</td>\n",
       "      <td>0</td>\n",
       "      <td>4</td>\n",
       "      <td>6</td>\n",
       "      <td>1</td>\n",
       "    </tr>\n",
       "    <tr>\n",
       "      <th>4</th>\n",
       "      <td>1981</td>\n",
       "      <td>PhD</td>\n",
       "      <td>Married</td>\n",
       "      <td>58293.0</td>\n",
       "      <td>2014-01-19</td>\n",
       "      <td>94</td>\n",
       "      <td>173</td>\n",
       "      <td>43</td>\n",
       "      <td>118</td>\n",
       "      <td>46</td>\n",
       "      <td>27</td>\n",
       "      <td>15</td>\n",
       "      <td>5</td>\n",
       "      <td>5</td>\n",
       "      <td>3</td>\n",
       "      <td>6</td>\n",
       "      <td>5</td>\n",
       "      <td>1</td>\n",
       "    </tr>\n",
       "  </tbody>\n",
       "</table>\n",
       "</div>"
      ],
      "text/plain": [
       "   Year_Birth   Education Marital_Status   Income Dt_Customer  Recency  \\\n",
       "0        1957  Graduation         Single  58138.0  2012-04-09       58   \n",
       "1        1954  Graduation         Single  46344.0  2014-08-03       38   \n",
       "2        1965  Graduation       Together  71613.0  2013-08-21       26   \n",
       "3        1984  Graduation       Together  26646.0  2014-10-02       26   \n",
       "4        1981         PhD        Married  58293.0  2014-01-19       94   \n",
       "\n",
       "   MntWines  MntFruits  MntMeatProducts  MntFishProducts  MntSweetProducts  \\\n",
       "0       635         88              546              172                88   \n",
       "1        11          1                6                2                 1   \n",
       "2       426         49              127              111                21   \n",
       "3        11          4               20               10                 3   \n",
       "4       173         43              118               46                27   \n",
       "\n",
       "   MntGoldProds  NumDealsPurchases  NumWebPurchases  NumCatalogPurchases  \\\n",
       "0            88                  3                8                   10   \n",
       "1             6                  2                1                    1   \n",
       "2            42                  1                8                    2   \n",
       "3             5                  2                2                    0   \n",
       "4            15                  5                5                    3   \n",
       "\n",
       "   NumStorePurchases  NumWebVisitsMonth  Kids  \n",
       "0                  4                  7     0  \n",
       "1                  2                  5     2  \n",
       "2                 10                  4     0  \n",
       "3                  4                  6     1  \n",
       "4                  6                  5     1  "
      ]
     },
     "execution_count": 39,
     "metadata": {},
     "output_type": "execute_result"
    }
   ],
   "source": [
    "df.head()"
   ]
  },
  {
   "cell_type": "code",
   "execution_count": 40,
   "id": "4e10e4f5",
   "metadata": {},
   "outputs": [
    {
     "data": {
      "text/plain": [
       "(2240, 18)"
      ]
     },
     "execution_count": 40,
     "metadata": {},
     "output_type": "execute_result"
    }
   ],
   "source": [
    "df.shape"
   ]
  },
  {
   "cell_type": "code",
   "execution_count": 41,
   "id": "43f6c038",
   "metadata": {
    "scrolled": true
   },
   "outputs": [
    {
     "data": {
      "text/plain": [
       "1    1128\n",
       "0     638\n",
       "2     421\n",
       "3      53\n",
       "Name: Kids, dtype: int64"
      ]
     },
     "execution_count": 41,
     "metadata": {},
     "output_type": "execute_result"
    }
   ],
   "source": [
    "df['Kids'].value_counts()"
   ]
  },
  {
   "cell_type": "markdown",
   "id": "26d178f5",
   "metadata": {},
   "source": [
    "Then, I would also like to see the total products bought over the last 2 years by customer, so I need to create another column with this info: `TotalProductsL2Y`"
   ]
  },
  {
   "cell_type": "code",
   "execution_count": 45,
   "id": "36e41a02",
   "metadata": {},
   "outputs": [],
   "source": [
    "df['TotalProductsL2Y'] = df['MntWines'] + df['MntFruits'] + df['MntMeatProducts'] + df['MntFishProducts'] + df['MntSweetProducts'] + df['MntGoldProds']"
   ]
  },
  {
   "cell_type": "code",
   "execution_count": 46,
   "id": "db9d458e",
   "metadata": {},
   "outputs": [
    {
     "data": {
      "text/html": [
       "<div>\n",
       "<style scoped>\n",
       "    .dataframe tbody tr th:only-of-type {\n",
       "        vertical-align: middle;\n",
       "    }\n",
       "\n",
       "    .dataframe tbody tr th {\n",
       "        vertical-align: top;\n",
       "    }\n",
       "\n",
       "    .dataframe thead th {\n",
       "        text-align: right;\n",
       "    }\n",
       "</style>\n",
       "<table border=\"1\" class=\"dataframe\">\n",
       "  <thead>\n",
       "    <tr style=\"text-align: right;\">\n",
       "      <th></th>\n",
       "      <th>Dt_Customer</th>\n",
       "      <th>Recency</th>\n",
       "      <th>Year_Birth</th>\n",
       "      <th>Income</th>\n",
       "      <th>Education</th>\n",
       "      <th>Marital_Status</th>\n",
       "      <th>Kids</th>\n",
       "      <th>MntWines</th>\n",
       "      <th>MntFruits</th>\n",
       "      <th>MntMeatProducts</th>\n",
       "      <th>MntFishProducts</th>\n",
       "      <th>MntSweetProducts</th>\n",
       "      <th>MntGoldProds</th>\n",
       "      <th>NumDealsPurchases</th>\n",
       "      <th>NumStorePurchases</th>\n",
       "      <th>NumCatalogPurchases</th>\n",
       "      <th>NumWebPurchases</th>\n",
       "      <th>NumWebVisitsMonth</th>\n",
       "      <th>TotalProductsL2Y</th>\n",
       "    </tr>\n",
       "  </thead>\n",
       "  <tbody>\n",
       "    <tr>\n",
       "      <th>528</th>\n",
       "      <td>2012-12-08</td>\n",
       "      <td>20</td>\n",
       "      <td>1964</td>\n",
       "      <td>61839.0</td>\n",
       "      <td>Graduation</td>\n",
       "      <td>Single</td>\n",
       "      <td>0</td>\n",
       "      <td>1000</td>\n",
       "      <td>155</td>\n",
       "      <td>379</td>\n",
       "      <td>224</td>\n",
       "      <td>17</td>\n",
       "      <td>120</td>\n",
       "      <td>1</td>\n",
       "      <td>4</td>\n",
       "      <td>8</td>\n",
       "      <td>4</td>\n",
       "      <td>8</td>\n",
       "      <td>1895</td>\n",
       "    </tr>\n",
       "  </tbody>\n",
       "</table>\n",
       "</div>"
      ],
      "text/plain": [
       "    Dt_Customer  Recency  Year_Birth   Income   Education Marital_Status  \\\n",
       "528  2012-12-08       20        1964  61839.0  Graduation         Single   \n",
       "\n",
       "     Kids  MntWines  MntFruits  MntMeatProducts  MntFishProducts  \\\n",
       "528     0      1000        155              379              224   \n",
       "\n",
       "     MntSweetProducts  MntGoldProds  NumDealsPurchases  NumStorePurchases  \\\n",
       "528                17           120                  1                  4   \n",
       "\n",
       "     NumCatalogPurchases  NumWebPurchases  NumWebVisitsMonth  TotalProductsL2Y  \n",
       "528                    8                4                  8              1895  "
      ]
     },
     "execution_count": 46,
     "metadata": {},
     "output_type": "execute_result"
    }
   ],
   "source": [
    "df.sample()"
   ]
  },
  {
   "cell_type": "markdown",
   "id": "a6e1f5c6",
   "metadata": {},
   "source": [
    "Finally, let's sort the columns accordingly"
   ]
  },
  {
   "cell_type": "code",
   "execution_count": 42,
   "id": "943579b5",
   "metadata": {},
   "outputs": [],
   "source": [
    "df = df[['Dt_Customer', 'Recency', 'Year_Birth', 'Income', 'Education', 'Marital_Status', 'Kids', 'TotalProductsL2Y', 'MntWines', 'MntFruits', 'MntMeatProducts', 'MntFishProducts', 'MntSweetProducts', 'MntGoldProds', 'NumDealsPurchases', 'NumStorePurchases', 'NumCatalogPurchases', 'NumWebPurchases', 'NumWebVisitsMonth']]"
   ]
  },
  {
   "cell_type": "code",
   "execution_count": 43,
   "id": "6f4396ea",
   "metadata": {},
   "outputs": [
    {
     "data": {
      "text/plain": [
       "(2240, 18)"
      ]
     },
     "execution_count": 43,
     "metadata": {},
     "output_type": "execute_result"
    }
   ],
   "source": [
    "df.shape"
   ]
  },
  {
   "cell_type": "code",
   "execution_count": 44,
   "id": "a802215b",
   "metadata": {
    "scrolled": true
   },
   "outputs": [
    {
     "data": {
      "text/html": [
       "<div>\n",
       "<style scoped>\n",
       "    .dataframe tbody tr th:only-of-type {\n",
       "        vertical-align: middle;\n",
       "    }\n",
       "\n",
       "    .dataframe tbody tr th {\n",
       "        vertical-align: top;\n",
       "    }\n",
       "\n",
       "    .dataframe thead th {\n",
       "        text-align: right;\n",
       "    }\n",
       "</style>\n",
       "<table border=\"1\" class=\"dataframe\">\n",
       "  <thead>\n",
       "    <tr style=\"text-align: right;\">\n",
       "      <th></th>\n",
       "      <th>Dt_Customer</th>\n",
       "      <th>Recency</th>\n",
       "      <th>Year_Birth</th>\n",
       "      <th>Income</th>\n",
       "      <th>Education</th>\n",
       "      <th>Marital_Status</th>\n",
       "      <th>Kids</th>\n",
       "      <th>MntWines</th>\n",
       "      <th>MntFruits</th>\n",
       "      <th>MntMeatProducts</th>\n",
       "      <th>MntFishProducts</th>\n",
       "      <th>MntSweetProducts</th>\n",
       "      <th>MntGoldProds</th>\n",
       "      <th>NumDealsPurchases</th>\n",
       "      <th>NumStorePurchases</th>\n",
       "      <th>NumCatalogPurchases</th>\n",
       "      <th>NumWebPurchases</th>\n",
       "      <th>NumWebVisitsMonth</th>\n",
       "    </tr>\n",
       "  </thead>\n",
       "  <tbody>\n",
       "    <tr>\n",
       "      <th>0</th>\n",
       "      <td>2012-04-09</td>\n",
       "      <td>58</td>\n",
       "      <td>1957</td>\n",
       "      <td>58138.0</td>\n",
       "      <td>Graduation</td>\n",
       "      <td>Single</td>\n",
       "      <td>0</td>\n",
       "      <td>635</td>\n",
       "      <td>88</td>\n",
       "      <td>546</td>\n",
       "      <td>172</td>\n",
       "      <td>88</td>\n",
       "      <td>88</td>\n",
       "      <td>3</td>\n",
       "      <td>4</td>\n",
       "      <td>10</td>\n",
       "      <td>8</td>\n",
       "      <td>7</td>\n",
       "    </tr>\n",
       "    <tr>\n",
       "      <th>1</th>\n",
       "      <td>2014-08-03</td>\n",
       "      <td>38</td>\n",
       "      <td>1954</td>\n",
       "      <td>46344.0</td>\n",
       "      <td>Graduation</td>\n",
       "      <td>Single</td>\n",
       "      <td>2</td>\n",
       "      <td>11</td>\n",
       "      <td>1</td>\n",
       "      <td>6</td>\n",
       "      <td>2</td>\n",
       "      <td>1</td>\n",
       "      <td>6</td>\n",
       "      <td>2</td>\n",
       "      <td>2</td>\n",
       "      <td>1</td>\n",
       "      <td>1</td>\n",
       "      <td>5</td>\n",
       "    </tr>\n",
       "    <tr>\n",
       "      <th>2</th>\n",
       "      <td>2013-08-21</td>\n",
       "      <td>26</td>\n",
       "      <td>1965</td>\n",
       "      <td>71613.0</td>\n",
       "      <td>Graduation</td>\n",
       "      <td>Together</td>\n",
       "      <td>0</td>\n",
       "      <td>426</td>\n",
       "      <td>49</td>\n",
       "      <td>127</td>\n",
       "      <td>111</td>\n",
       "      <td>21</td>\n",
       "      <td>42</td>\n",
       "      <td>1</td>\n",
       "      <td>10</td>\n",
       "      <td>2</td>\n",
       "      <td>8</td>\n",
       "      <td>4</td>\n",
       "    </tr>\n",
       "    <tr>\n",
       "      <th>3</th>\n",
       "      <td>2014-10-02</td>\n",
       "      <td>26</td>\n",
       "      <td>1984</td>\n",
       "      <td>26646.0</td>\n",
       "      <td>Graduation</td>\n",
       "      <td>Together</td>\n",
       "      <td>1</td>\n",
       "      <td>11</td>\n",
       "      <td>4</td>\n",
       "      <td>20</td>\n",
       "      <td>10</td>\n",
       "      <td>3</td>\n",
       "      <td>5</td>\n",
       "      <td>2</td>\n",
       "      <td>4</td>\n",
       "      <td>0</td>\n",
       "      <td>2</td>\n",
       "      <td>6</td>\n",
       "    </tr>\n",
       "    <tr>\n",
       "      <th>4</th>\n",
       "      <td>2014-01-19</td>\n",
       "      <td>94</td>\n",
       "      <td>1981</td>\n",
       "      <td>58293.0</td>\n",
       "      <td>PhD</td>\n",
       "      <td>Married</td>\n",
       "      <td>1</td>\n",
       "      <td>173</td>\n",
       "      <td>43</td>\n",
       "      <td>118</td>\n",
       "      <td>46</td>\n",
       "      <td>27</td>\n",
       "      <td>15</td>\n",
       "      <td>5</td>\n",
       "      <td>6</td>\n",
       "      <td>3</td>\n",
       "      <td>5</td>\n",
       "      <td>5</td>\n",
       "    </tr>\n",
       "  </tbody>\n",
       "</table>\n",
       "</div>"
      ],
      "text/plain": [
       "  Dt_Customer  Recency  Year_Birth   Income   Education Marital_Status  Kids  \\\n",
       "0  2012-04-09       58        1957  58138.0  Graduation         Single     0   \n",
       "1  2014-08-03       38        1954  46344.0  Graduation         Single     2   \n",
       "2  2013-08-21       26        1965  71613.0  Graduation       Together     0   \n",
       "3  2014-10-02       26        1984  26646.0  Graduation       Together     1   \n",
       "4  2014-01-19       94        1981  58293.0         PhD        Married     1   \n",
       "\n",
       "   MntWines  MntFruits  MntMeatProducts  MntFishProducts  MntSweetProducts  \\\n",
       "0       635         88              546              172                88   \n",
       "1        11          1                6                2                 1   \n",
       "2       426         49              127              111                21   \n",
       "3        11          4               20               10                 3   \n",
       "4       173         43              118               46                27   \n",
       "\n",
       "   MntGoldProds  NumDealsPurchases  NumStorePurchases  NumCatalogPurchases  \\\n",
       "0            88                  3                  4                   10   \n",
       "1             6                  2                  2                    1   \n",
       "2            42                  1                 10                    2   \n",
       "3             5                  2                  4                    0   \n",
       "4            15                  5                  6                    3   \n",
       "\n",
       "   NumWebPurchases  NumWebVisitsMonth  \n",
       "0                8                  7  \n",
       "1                1                  5  \n",
       "2                8                  4  \n",
       "3                2                  6  \n",
       "4                5                  5  "
      ]
     },
     "execution_count": 44,
     "metadata": {},
     "output_type": "execute_result"
    }
   ],
   "source": [
    "df.head()"
   ]
  },
  {
   "cell_type": "code",
   "execution_count": null,
   "id": "3a9980eb",
   "metadata": {},
   "outputs": [],
   "source": []
  }
 ],
 "metadata": {
  "kernelspec": {
   "display_name": "ironhack",
   "language": "python",
   "name": "ironhack"
  },
  "language_info": {
   "codemirror_mode": {
    "name": "ipython",
    "version": 3
   },
   "file_extension": ".py",
   "mimetype": "text/x-python",
   "name": "python",
   "nbconvert_exporter": "python",
   "pygments_lexer": "ipython3",
   "version": "3.8.10"
  }
 },
 "nbformat": 4,
 "nbformat_minor": 5
}
