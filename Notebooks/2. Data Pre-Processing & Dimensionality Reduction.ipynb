{
 "cells": [
  {
   "cell_type": "markdown",
   "id": "3b11cfbc",
   "metadata": {},
   "source": [
    "# 2. Data Pre-Processing & Dimensionality Reduction"
   ]
  },
  {
   "cell_type": "code",
   "execution_count": 1,
   "id": "546afda3",
   "metadata": {},
   "outputs": [],
   "source": [
    "import pandas as pd\n",
    "from sklearn import preprocessing"
   ]
  },
  {
   "cell_type": "code",
   "execution_count": 2,
   "id": "dae8ef74",
   "metadata": {},
   "outputs": [],
   "source": [
    "df = pd.read_csv('../Data/data_clean_for_analysis.csv', encoding = \"ISO-8859-1\")"
   ]
  },
  {
   "cell_type": "code",
   "execution_count": 3,
   "id": "3eb31d51",
   "metadata": {},
   "outputs": [
    {
     "data": {
      "text/html": [
       "<div>\n",
       "<style scoped>\n",
       "    .dataframe tbody tr th:only-of-type {\n",
       "        vertical-align: middle;\n",
       "    }\n",
       "\n",
       "    .dataframe tbody tr th {\n",
       "        vertical-align: top;\n",
       "    }\n",
       "\n",
       "    .dataframe thead th {\n",
       "        text-align: right;\n",
       "    }\n",
       "</style>\n",
       "<table border=\"1\" class=\"dataframe\">\n",
       "  <thead>\n",
       "    <tr style=\"text-align: right;\">\n",
       "      <th></th>\n",
       "      <th>DaysBeingCustomer</th>\n",
       "      <th>Recency</th>\n",
       "      <th>Age</th>\n",
       "      <th>Income</th>\n",
       "      <th>Education</th>\n",
       "      <th>Marital_Status</th>\n",
       "      <th>Kids</th>\n",
       "      <th>MntWines</th>\n",
       "      <th>MntFruits</th>\n",
       "      <th>MntMeatProducts</th>\n",
       "      <th>...</th>\n",
       "      <th>MntGoldProds</th>\n",
       "      <th>NumDealsPurchases</th>\n",
       "      <th>NumStorePurchases</th>\n",
       "      <th>NumCatalogPurchases</th>\n",
       "      <th>NumWebPurchases</th>\n",
       "      <th>NumWebVisitsMonth</th>\n",
       "      <th>TotalProductsL2Y</th>\n",
       "      <th>TotalPurchasesL2Y</th>\n",
       "      <th>AvgProductsPerTrip</th>\n",
       "      <th>SharePurchasesOnDeal</th>\n",
       "    </tr>\n",
       "  </thead>\n",
       "  <tbody>\n",
       "    <tr>\n",
       "      <th>0</th>\n",
       "      <td>1000</td>\n",
       "      <td>58</td>\n",
       "      <td>57</td>\n",
       "      <td>58138.0</td>\n",
       "      <td>Graduate</td>\n",
       "      <td>Single</td>\n",
       "      <td>0</td>\n",
       "      <td>635</td>\n",
       "      <td>88</td>\n",
       "      <td>546</td>\n",
       "      <td>...</td>\n",
       "      <td>88</td>\n",
       "      <td>3</td>\n",
       "      <td>4</td>\n",
       "      <td>10</td>\n",
       "      <td>8</td>\n",
       "      <td>7</td>\n",
       "      <td>1617</td>\n",
       "      <td>22</td>\n",
       "      <td>73.5</td>\n",
       "      <td>13.6</td>\n",
       "    </tr>\n",
       "    <tr>\n",
       "      <th>1</th>\n",
       "      <td>154</td>\n",
       "      <td>38</td>\n",
       "      <td>60</td>\n",
       "      <td>46344.0</td>\n",
       "      <td>Graduate</td>\n",
       "      <td>Single</td>\n",
       "      <td>2</td>\n",
       "      <td>11</td>\n",
       "      <td>1</td>\n",
       "      <td>6</td>\n",
       "      <td>...</td>\n",
       "      <td>6</td>\n",
       "      <td>2</td>\n",
       "      <td>2</td>\n",
       "      <td>1</td>\n",
       "      <td>1</td>\n",
       "      <td>5</td>\n",
       "      <td>27</td>\n",
       "      <td>4</td>\n",
       "      <td>6.8</td>\n",
       "      <td>50.0</td>\n",
       "    </tr>\n",
       "    <tr>\n",
       "      <th>2</th>\n",
       "      <td>501</td>\n",
       "      <td>26</td>\n",
       "      <td>49</td>\n",
       "      <td>71613.0</td>\n",
       "      <td>Graduate</td>\n",
       "      <td>Together</td>\n",
       "      <td>0</td>\n",
       "      <td>426</td>\n",
       "      <td>49</td>\n",
       "      <td>127</td>\n",
       "      <td>...</td>\n",
       "      <td>42</td>\n",
       "      <td>1</td>\n",
       "      <td>10</td>\n",
       "      <td>2</td>\n",
       "      <td>8</td>\n",
       "      <td>4</td>\n",
       "      <td>776</td>\n",
       "      <td>20</td>\n",
       "      <td>38.8</td>\n",
       "      <td>5.0</td>\n",
       "    </tr>\n",
       "  </tbody>\n",
       "</table>\n",
       "<p>3 rows × 22 columns</p>\n",
       "</div>"
      ],
      "text/plain": [
       "   DaysBeingCustomer  Recency  Age   Income Education Marital_Status  Kids  \\\n",
       "0               1000       58   57  58138.0  Graduate         Single     0   \n",
       "1                154       38   60  46344.0  Graduate         Single     2   \n",
       "2                501       26   49  71613.0  Graduate       Together     0   \n",
       "\n",
       "   MntWines  MntFruits  MntMeatProducts  ...  MntGoldProds  NumDealsPurchases  \\\n",
       "0       635         88              546  ...            88                  3   \n",
       "1        11          1                6  ...             6                  2   \n",
       "2       426         49              127  ...            42                  1   \n",
       "\n",
       "   NumStorePurchases  NumCatalogPurchases  NumWebPurchases  NumWebVisitsMonth  \\\n",
       "0                  4                   10                8                  7   \n",
       "1                  2                    1                1                  5   \n",
       "2                 10                    2                8                  4   \n",
       "\n",
       "   TotalProductsL2Y  TotalPurchasesL2Y  AvgProductsPerTrip  \\\n",
       "0              1617                 22                73.5   \n",
       "1                27                  4                 6.8   \n",
       "2               776                 20                38.8   \n",
       "\n",
       "   SharePurchasesOnDeal  \n",
       "0                  13.6  \n",
       "1                  50.0  \n",
       "2                   5.0  \n",
       "\n",
       "[3 rows x 22 columns]"
      ]
     },
     "execution_count": 3,
     "metadata": {},
     "output_type": "execute_result"
    }
   ],
   "source": [
    "df.head(3)"
   ]
  },
  {
   "cell_type": "markdown",
   "id": "89610196",
   "metadata": {},
   "source": [
    "### I. Data Pre-Processing"
   ]
  },
  {
   "cell_type": "markdown",
   "id": "702da831",
   "metadata": {},
   "source": [
    "As we have 2 categorical columns in our dataset (`Education` & `Marital_Status`) we need to transform them into ordinal to carry out our models later. I will do so with the method of One Hot Encoder to avoid making the algorithm think there is a specific hierarchy in those variables. "
   ]
  },
  {
   "cell_type": "markdown",
   "id": "02db20a6",
   "metadata": {},
   "source": [
    "#### 1. Education"
   ]
  },
  {
   "cell_type": "code",
   "execution_count": 4,
   "id": "3e5958ae",
   "metadata": {
    "scrolled": true
   },
   "outputs": [
    {
     "data": {
      "text/plain": [
       "array(['Graduate', 'Postgraduate', 'Undergraduate'], dtype=object)"
      ]
     },
     "execution_count": 4,
     "metadata": {},
     "output_type": "execute_result"
    }
   ],
   "source": [
    "df['Education'].unique()"
   ]
  },
  {
   "cell_type": "code",
   "execution_count": 5,
   "id": "410a1a2e",
   "metadata": {},
   "outputs": [],
   "source": [
    "labels = [\"Ed_\" + str(i) for i in list(df['Education'].unique())]"
   ]
  },
  {
   "cell_type": "code",
   "execution_count": 6,
   "id": "200cd64b",
   "metadata": {},
   "outputs": [],
   "source": [
    "onehotencoder = preprocessing.OneHotEncoder()"
   ]
  },
  {
   "cell_type": "code",
   "execution_count": 7,
   "id": "05068249",
   "metadata": {},
   "outputs": [],
   "source": [
    "education = onehotencoder.fit_transform(df['Education'].values.reshape(-1,1)).toarray()"
   ]
  },
  {
   "cell_type": "code",
   "execution_count": 8,
   "id": "c53b4c94",
   "metadata": {},
   "outputs": [
    {
     "data": {
      "text/plain": [
       "array([[1., 0., 0.],\n",
       "       [1., 0., 0.],\n",
       "       [1., 0., 0.],\n",
       "       ...,\n",
       "       [1., 0., 0.],\n",
       "       [0., 1., 0.],\n",
       "       [0., 1., 0.]])"
      ]
     },
     "execution_count": 8,
     "metadata": {},
     "output_type": "execute_result"
    }
   ],
   "source": [
    "education"
   ]
  },
  {
   "cell_type": "code",
   "execution_count": 9,
   "id": "fbc59bbf",
   "metadata": {},
   "outputs": [],
   "source": [
    "df[labels] = pd.DataFrame(education, index = df.index)"
   ]
  },
  {
   "cell_type": "code",
   "execution_count": 10,
   "id": "26daa0b2",
   "metadata": {},
   "outputs": [
    {
     "data": {
      "text/html": [
       "<div>\n",
       "<style scoped>\n",
       "    .dataframe tbody tr th:only-of-type {\n",
       "        vertical-align: middle;\n",
       "    }\n",
       "\n",
       "    .dataframe tbody tr th {\n",
       "        vertical-align: top;\n",
       "    }\n",
       "\n",
       "    .dataframe thead th {\n",
       "        text-align: right;\n",
       "    }\n",
       "</style>\n",
       "<table border=\"1\" class=\"dataframe\">\n",
       "  <thead>\n",
       "    <tr style=\"text-align: right;\">\n",
       "      <th></th>\n",
       "      <th>DaysBeingCustomer</th>\n",
       "      <th>Recency</th>\n",
       "      <th>Age</th>\n",
       "      <th>Income</th>\n",
       "      <th>Education</th>\n",
       "      <th>Marital_Status</th>\n",
       "      <th>Kids</th>\n",
       "      <th>MntWines</th>\n",
       "      <th>MntFruits</th>\n",
       "      <th>MntMeatProducts</th>\n",
       "      <th>...</th>\n",
       "      <th>NumCatalogPurchases</th>\n",
       "      <th>NumWebPurchases</th>\n",
       "      <th>NumWebVisitsMonth</th>\n",
       "      <th>TotalProductsL2Y</th>\n",
       "      <th>TotalPurchasesL2Y</th>\n",
       "      <th>AvgProductsPerTrip</th>\n",
       "      <th>SharePurchasesOnDeal</th>\n",
       "      <th>Ed_Graduate</th>\n",
       "      <th>Ed_Postgraduate</th>\n",
       "      <th>Ed_Undergraduate</th>\n",
       "    </tr>\n",
       "  </thead>\n",
       "  <tbody>\n",
       "    <tr>\n",
       "      <th>2181</th>\n",
       "      <td>292</td>\n",
       "      <td>18</td>\n",
       "      <td>57</td>\n",
       "      <td>53233.0</td>\n",
       "      <td>Undergraduate</td>\n",
       "      <td>Married</td>\n",
       "      <td>1</td>\n",
       "      <td>28</td>\n",
       "      <td>0</td>\n",
       "      <td>9</td>\n",
       "      <td>...</td>\n",
       "      <td>0</td>\n",
       "      <td>1</td>\n",
       "      <td>4</td>\n",
       "      <td>40</td>\n",
       "      <td>4</td>\n",
       "      <td>10.0</td>\n",
       "      <td>25.0</td>\n",
       "      <td>0.0</td>\n",
       "      <td>0.0</td>\n",
       "      <td>1.0</td>\n",
       "    </tr>\n",
       "    <tr>\n",
       "      <th>1889</th>\n",
       "      <td>707</td>\n",
       "      <td>62</td>\n",
       "      <td>29</td>\n",
       "      <td>31158.0</td>\n",
       "      <td>Graduate</td>\n",
       "      <td>Married</td>\n",
       "      <td>1</td>\n",
       "      <td>25</td>\n",
       "      <td>6</td>\n",
       "      <td>16</td>\n",
       "      <td>...</td>\n",
       "      <td>0</td>\n",
       "      <td>2</td>\n",
       "      <td>8</td>\n",
       "      <td>72</td>\n",
       "      <td>5</td>\n",
       "      <td>14.4</td>\n",
       "      <td>40.0</td>\n",
       "      <td>1.0</td>\n",
       "      <td>0.0</td>\n",
       "      <td>0.0</td>\n",
       "    </tr>\n",
       "    <tr>\n",
       "      <th>1295</th>\n",
       "      <td>319</td>\n",
       "      <td>14</td>\n",
       "      <td>68</td>\n",
       "      <td>78569.0</td>\n",
       "      <td>Graduate</td>\n",
       "      <td>Married</td>\n",
       "      <td>0</td>\n",
       "      <td>558</td>\n",
       "      <td>79</td>\n",
       "      <td>622</td>\n",
       "      <td>...</td>\n",
       "      <td>6</td>\n",
       "      <td>4</td>\n",
       "      <td>1</td>\n",
       "      <td>1736</td>\n",
       "      <td>14</td>\n",
       "      <td>124.0</td>\n",
       "      <td>7.1</td>\n",
       "      <td>1.0</td>\n",
       "      <td>0.0</td>\n",
       "      <td>0.0</td>\n",
       "    </tr>\n",
       "  </tbody>\n",
       "</table>\n",
       "<p>3 rows × 25 columns</p>\n",
       "</div>"
      ],
      "text/plain": [
       "      DaysBeingCustomer  Recency  Age   Income      Education Marital_Status  \\\n",
       "2181                292       18   57  53233.0  Undergraduate        Married   \n",
       "1889                707       62   29  31158.0       Graduate        Married   \n",
       "1295                319       14   68  78569.0       Graduate        Married   \n",
       "\n",
       "      Kids  MntWines  MntFruits  MntMeatProducts  ...  NumCatalogPurchases  \\\n",
       "2181     1        28          0                9  ...                    0   \n",
       "1889     1        25          6               16  ...                    0   \n",
       "1295     0       558         79              622  ...                    6   \n",
       "\n",
       "      NumWebPurchases  NumWebVisitsMonth  TotalProductsL2Y  TotalPurchasesL2Y  \\\n",
       "2181                1                  4                40                  4   \n",
       "1889                2                  8                72                  5   \n",
       "1295                4                  1              1736                 14   \n",
       "\n",
       "      AvgProductsPerTrip  SharePurchasesOnDeal  Ed_Graduate  Ed_Postgraduate  \\\n",
       "2181                10.0                  25.0          0.0              0.0   \n",
       "1889                14.4                  40.0          1.0              0.0   \n",
       "1295               124.0                   7.1          1.0              0.0   \n",
       "\n",
       "      Ed_Undergraduate  \n",
       "2181               1.0  \n",
       "1889               0.0  \n",
       "1295               0.0  \n",
       "\n",
       "[3 rows x 25 columns]"
      ]
     },
     "execution_count": 10,
     "metadata": {},
     "output_type": "execute_result"
    }
   ],
   "source": [
    "df.sample(3)"
   ]
  },
  {
   "cell_type": "markdown",
   "id": "e9e348a2",
   "metadata": {},
   "source": [
    "#### 2. Marital Status"
   ]
  },
  {
   "cell_type": "code",
   "execution_count": 15,
   "id": "06ad73a7",
   "metadata": {},
   "outputs": [
    {
     "data": {
      "text/plain": [
       "array(['Single', 'Together', 'Married', 'Divorced', 'Widow'], dtype=object)"
      ]
     },
     "execution_count": 15,
     "metadata": {},
     "output_type": "execute_result"
    }
   ],
   "source": [
    "df['Marital_Status'].unique()"
   ]
  },
  {
   "cell_type": "code",
   "execution_count": 16,
   "id": "50674621",
   "metadata": {},
   "outputs": [],
   "source": [
    "labels = [\"MS_\" + str(i) for i in list(df['Marital_Status'].unique())]"
   ]
  },
  {
   "cell_type": "code",
   "execution_count": 17,
   "id": "fbbae90c",
   "metadata": {},
   "outputs": [],
   "source": [
    "marital_status = onehotencoder.fit_transform(df['Marital_Status'].values.reshape(-1,1)).toarray()"
   ]
  },
  {
   "cell_type": "code",
   "execution_count": 18,
   "id": "4b71279e",
   "metadata": {},
   "outputs": [],
   "source": [
    "df[labels] = pd.DataFrame(marital_status, index = df.index)"
   ]
  },
  {
   "cell_type": "code",
   "execution_count": 19,
   "id": "759e81b6",
   "metadata": {},
   "outputs": [
    {
     "data": {
      "text/html": [
       "<div>\n",
       "<style scoped>\n",
       "    .dataframe tbody tr th:only-of-type {\n",
       "        vertical-align: middle;\n",
       "    }\n",
       "\n",
       "    .dataframe tbody tr th {\n",
       "        vertical-align: top;\n",
       "    }\n",
       "\n",
       "    .dataframe thead th {\n",
       "        text-align: right;\n",
       "    }\n",
       "</style>\n",
       "<table border=\"1\" class=\"dataframe\">\n",
       "  <thead>\n",
       "    <tr style=\"text-align: right;\">\n",
       "      <th></th>\n",
       "      <th>DaysBeingCustomer</th>\n",
       "      <th>Recency</th>\n",
       "      <th>Age</th>\n",
       "      <th>Income</th>\n",
       "      <th>Education</th>\n",
       "      <th>Marital_Status</th>\n",
       "      <th>Kids</th>\n",
       "      <th>MntWines</th>\n",
       "      <th>MntFruits</th>\n",
       "      <th>MntMeatProducts</th>\n",
       "      <th>...</th>\n",
       "      <th>AvgProductsPerTrip</th>\n",
       "      <th>SharePurchasesOnDeal</th>\n",
       "      <th>Ed_Graduate</th>\n",
       "      <th>Ed_Postgraduate</th>\n",
       "      <th>Ed_Undergraduate</th>\n",
       "      <th>MS_Single</th>\n",
       "      <th>MS_Together</th>\n",
       "      <th>MS_Married</th>\n",
       "      <th>MS_Divorced</th>\n",
       "      <th>MS_Widow</th>\n",
       "    </tr>\n",
       "  </thead>\n",
       "  <tbody>\n",
       "    <tr>\n",
       "      <th>1108</th>\n",
       "      <td>731</td>\n",
       "      <td>1</td>\n",
       "      <td>31</td>\n",
       "      <td>81698.0</td>\n",
       "      <td>Undergraduate</td>\n",
       "      <td>Single</td>\n",
       "      <td>0</td>\n",
       "      <td>709</td>\n",
       "      <td>45</td>\n",
       "      <td>115</td>\n",
       "      <td>...</td>\n",
       "      <td>73.6</td>\n",
       "      <td>6.7</td>\n",
       "      <td>0.0</td>\n",
       "      <td>0.0</td>\n",
       "      <td>1.0</td>\n",
       "      <td>0.0</td>\n",
       "      <td>0.0</td>\n",
       "      <td>1.0</td>\n",
       "      <td>0.0</td>\n",
       "      <td>0.0</td>\n",
       "    </tr>\n",
       "    <tr>\n",
       "      <th>1634</th>\n",
       "      <td>693</td>\n",
       "      <td>23</td>\n",
       "      <td>69</td>\n",
       "      <td>69755.0</td>\n",
       "      <td>Graduate</td>\n",
       "      <td>Married</td>\n",
       "      <td>0</td>\n",
       "      <td>217</td>\n",
       "      <td>77</td>\n",
       "      <td>373</td>\n",
       "      <td>...</td>\n",
       "      <td>42.6</td>\n",
       "      <td>4.8</td>\n",
       "      <td>1.0</td>\n",
       "      <td>0.0</td>\n",
       "      <td>0.0</td>\n",
       "      <td>0.0</td>\n",
       "      <td>1.0</td>\n",
       "      <td>0.0</td>\n",
       "      <td>0.0</td>\n",
       "      <td>0.0</td>\n",
       "    </tr>\n",
       "  </tbody>\n",
       "</table>\n",
       "<p>2 rows × 30 columns</p>\n",
       "</div>"
      ],
      "text/plain": [
       "      DaysBeingCustomer  Recency  Age   Income      Education Marital_Status  \\\n",
       "1108                731        1   31  81698.0  Undergraduate         Single   \n",
       "1634                693       23   69  69755.0       Graduate        Married   \n",
       "\n",
       "      Kids  MntWines  MntFruits  MntMeatProducts  ...  AvgProductsPerTrip  \\\n",
       "1108     0       709         45              115  ...                73.6   \n",
       "1634     0       217         77              373  ...                42.6   \n",
       "\n",
       "      SharePurchasesOnDeal  Ed_Graduate  Ed_Postgraduate  Ed_Undergraduate  \\\n",
       "1108                   6.7          0.0              0.0               1.0   \n",
       "1634                   4.8          1.0              0.0               0.0   \n",
       "\n",
       "      MS_Single  MS_Together  MS_Married  MS_Divorced  MS_Widow  \n",
       "1108        0.0          0.0         1.0          0.0       0.0  \n",
       "1634        0.0          1.0         0.0          0.0       0.0  \n",
       "\n",
       "[2 rows x 30 columns]"
      ]
     },
     "execution_count": 19,
     "metadata": {},
     "output_type": "execute_result"
    }
   ],
   "source": [
    "df.sample(2)"
   ]
  },
  {
   "cell_type": "code",
   "execution_count": 20,
   "id": "477f414c",
   "metadata": {},
   "outputs": [],
   "source": [
    "df.drop(columns = ['Education', 'Marital_Status'], inplace = True)"
   ]
  },
  {
   "cell_type": "code",
   "execution_count": 22,
   "id": "1323f658",
   "metadata": {},
   "outputs": [
    {
     "data": {
      "text/html": [
       "<div>\n",
       "<style scoped>\n",
       "    .dataframe tbody tr th:only-of-type {\n",
       "        vertical-align: middle;\n",
       "    }\n",
       "\n",
       "    .dataframe tbody tr th {\n",
       "        vertical-align: top;\n",
       "    }\n",
       "\n",
       "    .dataframe thead th {\n",
       "        text-align: right;\n",
       "    }\n",
       "</style>\n",
       "<table border=\"1\" class=\"dataframe\">\n",
       "  <thead>\n",
       "    <tr style=\"text-align: right;\">\n",
       "      <th></th>\n",
       "      <th>DaysBeingCustomer</th>\n",
       "      <th>Recency</th>\n",
       "      <th>Age</th>\n",
       "      <th>Income</th>\n",
       "      <th>Kids</th>\n",
       "      <th>MntWines</th>\n",
       "      <th>MntFruits</th>\n",
       "      <th>MntMeatProducts</th>\n",
       "      <th>MntFishProducts</th>\n",
       "      <th>MntSweetProducts</th>\n",
       "      <th>...</th>\n",
       "      <th>AvgProductsPerTrip</th>\n",
       "      <th>SharePurchasesOnDeal</th>\n",
       "      <th>Ed_Graduate</th>\n",
       "      <th>Ed_Postgraduate</th>\n",
       "      <th>Ed_Undergraduate</th>\n",
       "      <th>MS_Single</th>\n",
       "      <th>MS_Together</th>\n",
       "      <th>MS_Married</th>\n",
       "      <th>MS_Divorced</th>\n",
       "      <th>MS_Widow</th>\n",
       "    </tr>\n",
       "  </thead>\n",
       "  <tbody>\n",
       "    <tr>\n",
       "      <th>409</th>\n",
       "      <td>645</td>\n",
       "      <td>1</td>\n",
       "      <td>59</td>\n",
       "      <td>66465.0</td>\n",
       "      <td>1</td>\n",
       "      <td>1200</td>\n",
       "      <td>0</td>\n",
       "      <td>204</td>\n",
       "      <td>38</td>\n",
       "      <td>29</td>\n",
       "      <td>...</td>\n",
       "      <td>46.4</td>\n",
       "      <td>9.4</td>\n",
       "      <td>0.0</td>\n",
       "      <td>1.0</td>\n",
       "      <td>0.0</td>\n",
       "      <td>0.0</td>\n",
       "      <td>1.0</td>\n",
       "      <td>0.0</td>\n",
       "      <td>0.0</td>\n",
       "      <td>0.0</td>\n",
       "    </tr>\n",
       "  </tbody>\n",
       "</table>\n",
       "<p>1 rows × 28 columns</p>\n",
       "</div>"
      ],
      "text/plain": [
       "     DaysBeingCustomer  Recency  Age   Income  Kids  MntWines  MntFruits  \\\n",
       "409                645        1   59  66465.0     1      1200          0   \n",
       "\n",
       "     MntMeatProducts  MntFishProducts  MntSweetProducts  ...  \\\n",
       "409              204               38                29  ...   \n",
       "\n",
       "     AvgProductsPerTrip  SharePurchasesOnDeal  Ed_Graduate  Ed_Postgraduate  \\\n",
       "409                46.4                   9.4          0.0              1.0   \n",
       "\n",
       "     Ed_Undergraduate  MS_Single  MS_Together  MS_Married  MS_Divorced  \\\n",
       "409               0.0        0.0          1.0         0.0          0.0   \n",
       "\n",
       "     MS_Widow  \n",
       "409       0.0  \n",
       "\n",
       "[1 rows x 28 columns]"
      ]
     },
     "execution_count": 22,
     "metadata": {},
     "output_type": "execute_result"
    }
   ],
   "source": [
    "df.sample()"
   ]
  },
  {
   "cell_type": "code",
   "execution_count": 23,
   "id": "090c6d08",
   "metadata": {},
   "outputs": [
    {
     "data": {
      "text/plain": [
       "DaysBeingCustomer         int64\n",
       "Recency                   int64\n",
       "Age                       int64\n",
       "Income                  float64\n",
       "Kids                      int64\n",
       "MntWines                  int64\n",
       "MntFruits                 int64\n",
       "MntMeatProducts           int64\n",
       "MntFishProducts           int64\n",
       "MntSweetProducts          int64\n",
       "MntGoldProds              int64\n",
       "NumDealsPurchases         int64\n",
       "NumStorePurchases         int64\n",
       "NumCatalogPurchases       int64\n",
       "NumWebPurchases           int64\n",
       "NumWebVisitsMonth         int64\n",
       "TotalProductsL2Y          int64\n",
       "TotalPurchasesL2Y         int64\n",
       "AvgProductsPerTrip      float64\n",
       "SharePurchasesOnDeal    float64\n",
       "Ed_Graduate             float64\n",
       "Ed_Postgraduate         float64\n",
       "Ed_Undergraduate        float64\n",
       "MS_Single               float64\n",
       "MS_Together             float64\n",
       "MS_Married              float64\n",
       "MS_Divorced             float64\n",
       "MS_Widow                float64\n",
       "dtype: object"
      ]
     },
     "execution_count": 23,
     "metadata": {},
     "output_type": "execute_result"
    }
   ],
   "source": [
    "df.dtypes"
   ]
  },
  {
   "cell_type": "markdown",
   "id": "8be196cf",
   "metadata": {},
   "source": [
    "### II. Dimensionality Reduction - PCA"
   ]
  }
 ],
 "metadata": {
  "kernelspec": {
   "display_name": "ironhack",
   "language": "python",
   "name": "ironhack"
  },
  "language_info": {
   "codemirror_mode": {
    "name": "ipython",
    "version": 3
   },
   "file_extension": ".py",
   "mimetype": "text/x-python",
   "name": "python",
   "nbconvert_exporter": "python",
   "pygments_lexer": "ipython3",
   "version": "3.8.10"
  }
 },
 "nbformat": 4,
 "nbformat_minor": 5
}
